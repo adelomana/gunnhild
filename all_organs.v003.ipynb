{
 "cells": [
  {
   "cell_type": "code",
   "execution_count": 1,
   "metadata": {
    "executionInfo": {
     "elapsed": 689,
     "status": "ok",
     "timestamp": 1636491983381,
     "user": {
      "displayName": "a b",
      "photoUrl": "https://lh3.googleusercontent.com/a/default-user=s64",
      "userId": "14720607983357227806"
     },
     "user_tz": 0
    },
    "id": "TLQwwG5VDPFA"
   },
   "outputs": [],
   "source": [
    "import pandas, numpy, math, seaborn\n",
    "import scipy, scipy.stats"
   ]
  },
  {
   "cell_type": "code",
   "execution_count": 2,
   "metadata": {
    "executionInfo": {
     "elapsed": 5,
     "status": "ok",
     "timestamp": 1636491983382,
     "user": {
      "displayName": "a b",
      "photoUrl": "https://lh3.googleusercontent.com/a/default-user=s64",
      "userId": "14720607983357227806"
     },
     "user_tz": 0
    },
    "id": "CMOWiLBfDPFA"
   },
   "outputs": [],
   "source": [
    "# module for figures\n",
    "import matplotlib, matplotlib.pyplot as plt\n",
    "\n",
    "# this is a trick to make figures look nicer\n",
    "matplotlib.rcParams.update({'font.size':20, 'font.family':'FreeSans', 'xtick.labelsize':20, 'ytick.labelsize':10, 'figure.figsize':(12, 8)})"
   ]
  },
  {
   "cell_type": "markdown",
   "metadata": {
    "id": "ifhgKXirU9Ds"
   },
   "source": [
    "# 0. user-defined variables"
   ]
  },
  {
   "cell_type": "code",
   "execution_count": 3,
   "metadata": {
    "executionInfo": {
     "elapsed": 284,
     "status": "ok",
     "timestamp": 1636489480841,
     "user": {
      "displayName": "a b",
      "photoUrl": "https://lh3.googleusercontent.com/a/default-user=s64",
      "userId": "14720607983357227806"
     },
     "user_tz": 0
    },
    "id": "aHG0vowTDPFC"
   },
   "outputs": [],
   "source": [
    "input_file_directory = '/home/adrian/projects/ATG7/data/'\n",
    "\n",
    "normal_tissue_expression_file = '/home/adrian/projects/ATG7/results/normal_tissue_expression.tsv'\n",
    "primary_tumor_expression_file = '/home/adrian/projects/ATG7/results/primary_tumors_expression.tsv'"
   ]
  },
  {
   "cell_type": "markdown",
   "metadata": {
    "id": "wYGSc-xPDaFV"
   },
   "source": [
    "## functions & options\n"
   ]
  },
  {
   "cell_type": "code",
   "execution_count": 4,
   "metadata": {
    "executionInfo": {
     "elapsed": 350,
     "status": "ok",
     "timestamp": 1636492016253,
     "user": {
      "displayName": "a b",
      "photoUrl": "https://lh3.googleusercontent.com/a/default-user=s64",
      "userId": "14720607983357227806"
     },
     "user_tz": 0
    },
    "id": "K8VbSwcZyDon"
   },
   "outputs": [],
   "source": [
    "#define a function to split after the \".\". The 1 is for how many word to have. if we have several dot. The [1] is what is after the dot, and [0] what is before\n",
    "def split(L):\n",
    "  return L.split(\".\",1)[0]"
   ]
  },
  {
   "cell_type": "markdown",
   "metadata": {
    "id": "IpmCT5mEDPFD"
   },
   "source": [
    "# II] Dataframe settings"
   ]
  },
  {
   "cell_type": "markdown",
   "metadata": {
    "id": "scwtwuDCqUKz"
   },
   "source": [
    "## A) Isoform data"
   ]
  },
  {
   "cell_type": "code",
   "execution_count": 5,
   "metadata": {
    "executionInfo": {
     "elapsed": 1343,
     "status": "ok",
     "timestamp": 1636492023546,
     "user": {
      "displayName": "a b",
      "photoUrl": "https://lh3.googleusercontent.com/a/default-user=s64",
      "userId": "14720607983357227806"
     },
     "user_tz": 0
    },
    "id": "PHqx_s0JozXU"
   },
   "outputs": [],
   "source": [
    "# Original data isoforms\n",
    "directory = input_file_directory + \"xena_surv_ATG7.tsv\"\n",
    "df_ori= pandas.read_csv(directory, sep = \"\\t\")\n"
   ]
  },
  {
   "cell_type": "code",
   "execution_count": 6,
   "metadata": {
    "id": "oC8hQXN9WRsH",
    "scrolled": true
   },
   "outputs": [
    {
     "name": "stderr",
     "output_type": "stream",
     "text": [
      "/home/adrian/anaconda3/lib/python3.7/site-packages/ipykernel_launcher.py:11: SettingWithCopyWarning: \n",
      "A value is trying to be set on a copy of a slice from a DataFrame.\n",
      "Try using .loc[row_indexer,col_indexer] = value instead\n",
      "\n",
      "See the caveats in the documentation: https://pandas.pydata.org/pandas-docs/stable/user_guide/indexing.html#returning-a-view-versus-a-copy\n",
      "  # This is added back by InteractiveShellApp.init_path()\n",
      "/home/adrian/anaconda3/lib/python3.7/site-packages/pandas/core/frame.py:5047: SettingWithCopyWarning: \n",
      "A value is trying to be set on a copy of a slice from a DataFrame\n",
      "\n",
      "See the caveats in the documentation: https://pandas.pydata.org/pandas-docs/stable/user_guide/indexing.html#returning-a-view-versus-a-copy\n",
      "  errors=errors,\n",
      "/home/adrian/anaconda3/lib/python3.7/site-packages/ipykernel_launcher.py:23: SettingWithCopyWarning: \n",
      "A value is trying to be set on a copy of a slice from a DataFrame.\n",
      "Try using .loc[row_indexer,col_indexer] = value instead\n",
      "\n",
      "See the caveats in the documentation: https://pandas.pydata.org/pandas-docs/stable/user_guide/indexing.html#returning-a-view-versus-a-copy\n",
      "/home/adrian/anaconda3/lib/python3.7/site-packages/ipykernel_launcher.py:24: SettingWithCopyWarning: \n",
      "A value is trying to be set on a copy of a slice from a DataFrame.\n",
      "Try using .loc[row_indexer,col_indexer] = value instead\n",
      "\n",
      "See the caveats in the documentation: https://pandas.pydata.org/pandas-docs/stable/user_guide/indexing.html#returning-a-view-versus-a-copy\n",
      "/home/adrian/anaconda3/lib/python3.7/site-packages/ipykernel_launcher.py:25: SettingWithCopyWarning: \n",
      "A value is trying to be set on a copy of a slice from a DataFrame.\n",
      "Try using .loc[row_indexer,col_indexer] = value instead\n",
      "\n",
      "See the caveats in the documentation: https://pandas.pydata.org/pandas-docs/stable/user_guide/indexing.html#returning-a-view-versus-a-copy\n",
      "/home/adrian/anaconda3/lib/python3.7/site-packages/ipykernel_launcher.py:26: SettingWithCopyWarning: \n",
      "A value is trying to be set on a copy of a slice from a DataFrame.\n",
      "Try using .loc[row_indexer,col_indexer] = value instead\n",
      "\n",
      "See the caveats in the documentation: https://pandas.pydata.org/pandas-docs/stable/user_guide/indexing.html#returning-a-view-versus-a-copy\n",
      "/home/adrian/anaconda3/lib/python3.7/site-packages/ipykernel_launcher.py:29: SettingWithCopyWarning: \n",
      "A value is trying to be set on a copy of a slice from a DataFrame.\n",
      "Try using .loc[row_indexer,col_indexer] = value instead\n",
      "\n",
      "See the caveats in the documentation: https://pandas.pydata.org/pandas-docs/stable/user_guide/indexing.html#returning-a-view-versus-a-copy\n",
      "/home/adrian/anaconda3/lib/python3.7/site-packages/ipykernel_launcher.py:30: SettingWithCopyWarning: \n",
      "A value is trying to be set on a copy of a slice from a DataFrame.\n",
      "Try using .loc[row_indexer,col_indexer] = value instead\n",
      "\n",
      "See the caveats in the documentation: https://pandas.pydata.org/pandas-docs/stable/user_guide/indexing.html#returning-a-view-versus-a-copy\n",
      "/home/adrian/anaconda3/lib/python3.7/site-packages/ipykernel_launcher.py:31: SettingWithCopyWarning: \n",
      "A value is trying to be set on a copy of a slice from a DataFrame.\n",
      "Try using .loc[row_indexer,col_indexer] = value instead\n",
      "\n",
      "See the caveats in the documentation: https://pandas.pydata.org/pandas-docs/stable/user_guide/indexing.html#returning-a-view-versus-a-copy\n",
      "/home/adrian/anaconda3/lib/python3.7/site-packages/ipykernel_launcher.py:34: SettingWithCopyWarning: \n",
      "A value is trying to be set on a copy of a slice from a DataFrame.\n",
      "Try using .loc[row_indexer,col_indexer] = value instead\n",
      "\n",
      "See the caveats in the documentation: https://pandas.pydata.org/pandas-docs/stable/user_guide/indexing.html#returning-a-view-versus-a-copy\n",
      "/home/adrian/anaconda3/lib/python3.7/site-packages/ipykernel_launcher.py:35: SettingWithCopyWarning: \n",
      "A value is trying to be set on a copy of a slice from a DataFrame.\n",
      "Try using .loc[row_indexer,col_indexer] = value instead\n",
      "\n",
      "See the caveats in the documentation: https://pandas.pydata.org/pandas-docs/stable/user_guide/indexing.html#returning-a-view-versus-a-copy\n",
      "/home/adrian/anaconda3/lib/python3.7/site-packages/ipykernel_launcher.py:36: SettingWithCopyWarning: \n",
      "A value is trying to be set on a copy of a slice from a DataFrame.\n",
      "Try using .loc[row_indexer,col_indexer] = value instead\n",
      "\n",
      "See the caveats in the documentation: https://pandas.pydata.org/pandas-docs/stable/user_guide/indexing.html#returning-a-view-versus-a-copy\n",
      "/home/adrian/anaconda3/lib/python3.7/site-packages/ipykernel_launcher.py:37: SettingWithCopyWarning: \n",
      "A value is trying to be set on a copy of a slice from a DataFrame.\n",
      "Try using .loc[row_indexer,col_indexer] = value instead\n",
      "\n",
      "See the caveats in the documentation: https://pandas.pydata.org/pandas-docs/stable/user_guide/indexing.html#returning-a-view-versus-a-copy\n",
      "/home/adrian/anaconda3/lib/python3.7/site-packages/ipykernel_launcher.py:40: SettingWithCopyWarning: \n",
      "A value is trying to be set on a copy of a slice from a DataFrame.\n",
      "Try using .loc[row_indexer,col_indexer] = value instead\n",
      "\n",
      "See the caveats in the documentation: https://pandas.pydata.org/pandas-docs/stable/user_guide/indexing.html#returning-a-view-versus-a-copy\n",
      "/home/adrian/anaconda3/lib/python3.7/site-packages/ipykernel_launcher.py:41: SettingWithCopyWarning: \n",
      "A value is trying to be set on a copy of a slice from a DataFrame.\n",
      "Try using .loc[row_indexer,col_indexer] = value instead\n",
      "\n",
      "See the caveats in the documentation: https://pandas.pydata.org/pandas-docs/stable/user_guide/indexing.html#returning-a-view-versus-a-copy\n"
     ]
    },
    {
     "data": {
      "text/html": [
       "<div>\n",
       "<style scoped>\n",
       "    .dataframe tbody tr th:only-of-type {\n",
       "        vertical-align: middle;\n",
       "    }\n",
       "\n",
       "    .dataframe tbody tr th {\n",
       "        vertical-align: top;\n",
       "    }\n",
       "\n",
       "    .dataframe thead th {\n",
       "        text-align: right;\n",
       "    }\n",
       "</style>\n",
       "<table border=\"1\" class=\"dataframe\">\n",
       "  <thead>\n",
       "    <tr style=\"text-align: right;\">\n",
       "      <th></th>\n",
       "      <th>sample</th>\n",
       "      <th>Sample_Type</th>\n",
       "      <th>Primary_Site</th>\n",
       "      <th>ATG7</th>\n",
       "      <th>ATG7_1</th>\n",
       "      <th>ATG7_2</th>\n",
       "      <th>ATG7_3</th>\n",
       "      <th>ATG7(total)</th>\n",
       "      <th>ATG7(1)</th>\n",
       "      <th>ATG7(2)</th>\n",
       "      <th>ATG7(3)</th>\n",
       "      <th>log2_+1_ATG7(total)</th>\n",
       "      <th>log2_+1_ATG7(1)</th>\n",
       "      <th>log2_+1_ATG7(2)</th>\n",
       "      <th>ATG7_prot_tot</th>\n",
       "      <th>ATG7_1%</th>\n",
       "      <th>ATG7_2%</th>\n",
       "      <th>ATG7_3%</th>\n",
       "      <th>ATG7(1)norm</th>\n",
       "      <th>ATG7(2)norm</th>\n",
       "    </tr>\n",
       "  </thead>\n",
       "  <tbody>\n",
       "    <tr>\n",
       "      <th>0</th>\n",
       "      <td>TARGET-20-PARUBT-40</td>\n",
       "      <td>Recurrent Blood Derived Cancer - Peripheral Blood</td>\n",
       "      <td>White Blood Cell</td>\n",
       "      <td>4.401</td>\n",
       "      <td>1.3900</td>\n",
       "      <td>1.522</td>\n",
       "      <td>-1.7320</td>\n",
       "      <td>21.125765</td>\n",
       "      <td>2.619787</td>\n",
       "      <td>2.870889</td>\n",
       "      <td>3.000343e-01</td>\n",
       "      <td>4.467655</td>\n",
       "      <td>1.855905</td>\n",
       "      <td>1.952665</td>\n",
       "      <td>5.790710</td>\n",
       "      <td>45.241201</td>\n",
       "      <td>49.577495</td>\n",
       "      <td>5.181305</td>\n",
       "      <td>0.124009</td>\n",
       "      <td>0.135895</td>\n",
       "    </tr>\n",
       "    <tr>\n",
       "      <th>1</th>\n",
       "      <td>TARGET-20-PATJHJ-40</td>\n",
       "      <td>Recurrent Blood Derived Cancer - Peripheral Blood</td>\n",
       "      <td>White Blood Cell</td>\n",
       "      <td>2.820</td>\n",
       "      <td>1.1180</td>\n",
       "      <td>-1.086</td>\n",
       "      <td>-9.9660</td>\n",
       "      <td>7.060624</td>\n",
       "      <td>2.169459</td>\n",
       "      <td>0.470066</td>\n",
       "      <td>-1.495113e-07</td>\n",
       "      <td>3.010892</td>\n",
       "      <td>1.664236</td>\n",
       "      <td>0.555881</td>\n",
       "      <td>2.639524</td>\n",
       "      <td>82.191280</td>\n",
       "      <td>17.808726</td>\n",
       "      <td>-0.000006</td>\n",
       "      <td>0.307262</td>\n",
       "      <td>0.066576</td>\n",
       "    </tr>\n",
       "    <tr>\n",
       "      <th>2</th>\n",
       "      <td>TARGET-10-PASLZM-40</td>\n",
       "      <td>Recurrent Blood Derived Cancer - Peripheral Blood</td>\n",
       "      <td>White Blood Cell</td>\n",
       "      <td>1.158</td>\n",
       "      <td>0.0158</td>\n",
       "      <td>-3.171</td>\n",
       "      <td>-3.8160</td>\n",
       "      <td>2.230479</td>\n",
       "      <td>1.010012</td>\n",
       "      <td>0.110028</td>\n",
       "      <td>7.000183e-02</td>\n",
       "      <td>1.691748</td>\n",
       "      <td>1.007204</td>\n",
       "      <td>0.150597</td>\n",
       "      <td>1.190042</td>\n",
       "      <td>84.871949</td>\n",
       "      <td>9.245753</td>\n",
       "      <td>5.882299</td>\n",
       "      <td>0.452823</td>\n",
       "      <td>0.049329</td>\n",
       "    </tr>\n",
       "    <tr>\n",
       "      <th>3</th>\n",
       "      <td>TARGET-21-PATAIJ-42</td>\n",
       "      <td>Post treatment Blood Cancer - Blood</td>\n",
       "      <td>White Blood Cell</td>\n",
       "      <td>4.332</td>\n",
       "      <td>1.3450</td>\n",
       "      <td>1.975</td>\n",
       "      <td>-9.9660</td>\n",
       "      <td>20.139115</td>\n",
       "      <td>2.539302</td>\n",
       "      <td>3.930282</td>\n",
       "      <td>-1.495113e-07</td>\n",
       "      <td>4.401843</td>\n",
       "      <td>1.823465</td>\n",
       "      <td>2.301670</td>\n",
       "      <td>6.469584</td>\n",
       "      <td>39.249848</td>\n",
       "      <td>60.750154</td>\n",
       "      <td>-0.000002</td>\n",
       "      <td>0.126088</td>\n",
       "      <td>0.195157</td>\n",
       "    </tr>\n",
       "    <tr>\n",
       "      <th>4</th>\n",
       "      <td>TARGET-21-PASVJS-41</td>\n",
       "      <td>Post treatment Blood Cancer - Bone Marrow</td>\n",
       "      <td>White Blood Cell</td>\n",
       "      <td>5.156</td>\n",
       "      <td>1.8040</td>\n",
       "      <td>3.769</td>\n",
       "      <td>0.5069</td>\n",
       "      <td>35.653197</td>\n",
       "      <td>3.490870</td>\n",
       "      <td>13.631706</td>\n",
       "      <td>1.419994e+00</td>\n",
       "      <td>5.195867</td>\n",
       "      <td>2.166995</td>\n",
       "      <td>3.871026</td>\n",
       "      <td>18.542569</td>\n",
       "      <td>18.826249</td>\n",
       "      <td>73.515731</td>\n",
       "      <td>7.658019</td>\n",
       "      <td>0.097912</td>\n",
       "      <td>0.382342</td>\n",
       "    </tr>\n",
       "  </tbody>\n",
       "</table>\n",
       "</div>"
      ],
      "text/plain": [
       "                sample                                        Sample_Type  \\\n",
       "0  TARGET-20-PARUBT-40  Recurrent Blood Derived Cancer - Peripheral Blood   \n",
       "1  TARGET-20-PATJHJ-40  Recurrent Blood Derived Cancer - Peripheral Blood   \n",
       "2  TARGET-10-PASLZM-40  Recurrent Blood Derived Cancer - Peripheral Blood   \n",
       "3  TARGET-21-PATAIJ-42                Post treatment Blood Cancer - Blood   \n",
       "4  TARGET-21-PASVJS-41          Post treatment Blood Cancer - Bone Marrow   \n",
       "\n",
       "       Primary_Site   ATG7  ATG7_1  ATG7_2  ATG7_3  ATG7(total)   ATG7(1)  \\\n",
       "0  White Blood Cell  4.401  1.3900   1.522 -1.7320    21.125765  2.619787   \n",
       "1  White Blood Cell  2.820  1.1180  -1.086 -9.9660     7.060624  2.169459   \n",
       "2  White Blood Cell  1.158  0.0158  -3.171 -3.8160     2.230479  1.010012   \n",
       "3  White Blood Cell  4.332  1.3450   1.975 -9.9660    20.139115  2.539302   \n",
       "4  White Blood Cell  5.156  1.8040   3.769  0.5069    35.653197  3.490870   \n",
       "\n",
       "     ATG7(2)       ATG7(3)  log2_+1_ATG7(total)  log2_+1_ATG7(1)  \\\n",
       "0   2.870889  3.000343e-01             4.467655         1.855905   \n",
       "1   0.470066 -1.495113e-07             3.010892         1.664236   \n",
       "2   0.110028  7.000183e-02             1.691748         1.007204   \n",
       "3   3.930282 -1.495113e-07             4.401843         1.823465   \n",
       "4  13.631706  1.419994e+00             5.195867         2.166995   \n",
       "\n",
       "   log2_+1_ATG7(2)  ATG7_prot_tot    ATG7_1%    ATG7_2%   ATG7_3%  \\\n",
       "0         1.952665       5.790710  45.241201  49.577495  5.181305   \n",
       "1         0.555881       2.639524  82.191280  17.808726 -0.000006   \n",
       "2         0.150597       1.190042  84.871949   9.245753  5.882299   \n",
       "3         2.301670       6.469584  39.249848  60.750154 -0.000002   \n",
       "4         3.871026      18.542569  18.826249  73.515731  7.658019   \n",
       "\n",
       "   ATG7(1)norm  ATG7(2)norm  \n",
       "0     0.124009     0.135895  \n",
       "1     0.307262     0.066576  \n",
       "2     0.452823     0.049329  \n",
       "3     0.126088     0.195157  \n",
       "4     0.097912     0.382342  "
      ]
     },
     "execution_count": 6,
     "metadata": {},
     "output_type": "execute_result"
    }
   ],
   "source": [
    "# Column selection\n",
    "df= df_ori[['sample',\n",
    "            '_sample_type',\n",
    "            '_primary_site',\n",
    "            'ENSG00000197548.12',\n",
    "            'ENST00000354449.7', \n",
    "            'ENST00000354956.9',\n",
    "            'ENST00000446450.6']]\n",
    "\n",
    "# We have Adrenal Gland and Adrenal gland. I need to put \"G\".\n",
    "df['_primary_site'] = df['_primary_site'].str.title()\n",
    "\n",
    "# Column rename\n",
    "df.rename(columns = {'sample' : 'sample',\n",
    "    '_sample_type' : 'Sample_Type', \n",
    "                            '_primary_site' : 'Primary_Site', \n",
    "                            'ENST00000354449.7': 'ATG7_1',\n",
    "                            'ENST00000354956.9': 'ATG7_2',\n",
    "                            'ENST00000446450.6': 'ATG7_3',\n",
    "                            'ENSG00000197548.12': 'ATG7'}, inplace = True)\n",
    "\n",
    "# Calcul to have value from log2;  2**(ATG7(1))-0.001\n",
    "df[\"ATG7(total)\"] = pow(2,df['ATG7'])-0.001\n",
    "df[\"ATG7(1)\"] = pow(2,df['ATG7_1'])-0.001\n",
    "df[\"ATG7(2)\"] = pow(2,df['ATG7_2'])-0.001\n",
    "df[\"ATG7(3)\"] = pow(2,df['ATG7_3'])-0.001\n",
    "\n",
    "# Calcul to have log2+1 from value; \n",
    "df[\"log2_+1_ATG7(total)\"] = numpy.log2(df['ATG7(total)']+1)\n",
    "df[\"log2_+1_ATG7(1)\"] = numpy.log2(df['ATG7(1)']+1)\n",
    "df[\"log2_+1_ATG7(2)\"] = numpy.log2(df['ATG7(2)']+1)\n",
    "\n",
    "# Calcul to see percentage of expression of the 3 isoforms of ATG7\n",
    "df['ATG7_prot_tot'] = (df['ATG7(1)'] + df['ATG7(2)'] + df['ATG7(3)'])\n",
    "df['ATG7_1%'] = (df['ATG7(1)'] *100)/ df['ATG7_prot_tot']\n",
    "df['ATG7_2%'] = (df['ATG7(2)'] *100)/ df['ATG7_prot_tot']\n",
    "df['ATG7_3%'] = (df['ATG7(3)'] *100)/ df['ATG7_prot_tot']\n",
    "\n",
    "#Add columns, normalized on total\n",
    "df[\"ATG7(1)norm\"] = df['ATG7(1)']/df[\"ATG7(total)\"]\n",
    "df[\"ATG7(2)norm\"] = df['ATG7(2)']/df[\"ATG7(total)\"]\n",
    "df.head()"
   ]
  },
  {
   "cell_type": "code",
   "execution_count": 7,
   "metadata": {
    "colab": {
     "base_uri": "https://localhost:8080/"
    },
    "executionInfo": {
     "elapsed": 34,
     "status": "ok",
     "timestamp": 1636492023561,
     "user": {
      "displayName": "a b",
      "photoUrl": "https://lh3.googleusercontent.com/a/default-user=s64",
      "userId": "14720607983357227806"
     },
     "user_tz": 0
    },
    "id": "l2tWUsTWX8ES",
    "outputId": "b410fc79-c5fe-48c1-e1d4-d602b376d1b4"
   },
   "outputs": [
    {
     "data": {
      "text/plain": [
       "Primary Tumor                                        9185\n",
       "Normal Tissue                                        7429\n",
       "Solid Tissue Normal                                   738\n",
       "Cell Line                                             433\n",
       "Metastatic                                            393\n",
       "Primary Solid Tumor                                   286\n",
       "Primary Blood Derived Cancer - Peripheral Blood       239\n",
       "Primary Blood Derived Cancer - Bone Marrow            237\n",
       "Recurrent Blood Derived Cancer - Bone Marrow          104\n",
       "Recurrent Tumor                                        45\n",
       "Recurrent Solid Tumor                                  13\n",
       "Post treatment Blood Cancer - Bone Marrow              12\n",
       "Additional - New Primary                               11\n",
       "Recurrent Blood Derived Cancer - Peripheral Blood       3\n",
       "Post treatment Blood Cancer - Blood                     1\n",
       "Control Analyte                                         1\n",
       "Additional Metastatic                                   1\n",
       "Name: Sample_Type, dtype: int64"
      ]
     },
     "execution_count": 7,
     "metadata": {},
     "output_type": "execute_result"
    }
   ],
   "source": [
    "df['Sample_Type'].value_counts()"
   ]
  },
  {
   "cell_type": "code",
   "execution_count": 8,
   "metadata": {
    "colab": {
     "base_uri": "https://localhost:8080/"
    },
    "executionInfo": {
     "elapsed": 33,
     "status": "ok",
     "timestamp": 1636492023563,
     "user": {
      "displayName": "a b",
      "photoUrl": "https://lh3.googleusercontent.com/a/default-user=s64",
      "userId": "14720607983357227806"
     },
     "user_tz": 0
    },
    "id": "kteWDMcBRLe1",
    "outputId": "f8c5b0f1-4986-4392-f72a-7e89c7a3b611"
   },
   "outputs": [
    {
     "name": "stdout",
     "output_type": "stream",
     "text": [
      "normal_tissue 7429\n",
      "primary_tumors 9185\n"
     ]
    }
   ],
   "source": [
    "#Creation of two tables, Normal tissue and Primary tumor.\n",
    "df_ATG7_Normal = df[df['Sample_Type'].str.match ('Normal Tissue')]\n",
    "df_ATG7_Primary = df[df['Sample_Type'].str.match ('Primary Tumor')]\n",
    "\n",
    "print('normal_tissue' , len(df_ATG7_Normal))\n",
    "print('primary_tumors' , len(df_ATG7_Primary))"
   ]
  },
  {
   "cell_type": "code",
   "execution_count": 9,
   "metadata": {
    "id": "90ZnSHOcSa--"
   },
   "outputs": [],
   "source": [
    "# df with only Normal and Primary \n",
    "df_Norm_Prim = pandas.concat([df_ATG7_Normal, df_ATG7_Primary], axis=0)\n",
    "df_Norm_Prim.reset_index(drop=True, inplace=True)"
   ]
  },
  {
   "cell_type": "markdown",
   "metadata": {
    "id": "CGVz9_mqWgpw"
   },
   "source": [
    "### High/Low expression per Median for Isoform expression"
   ]
  },
  {
   "cell_type": "code",
   "execution_count": 10,
   "metadata": {
    "executionInfo": {
     "elapsed": 24,
     "status": "ok",
     "timestamp": 1636492023878,
     "user": {
      "displayName": "a b",
      "photoUrl": "https://lh3.googleusercontent.com/a/default-user=s64",
      "userId": "14720607983357227806"
     },
     "user_tz": 0
    },
    "id": "Ypc3K2bKWzpI"
   },
   "outputs": [],
   "source": [
    "# What is the median for iso 1 and iso 2?\n",
    "#High >50% and low <50%"
   ]
  },
  {
   "cell_type": "code",
   "execution_count": 11,
   "metadata": {
    "id": "oA7fE5E3pxi_"
   },
   "outputs": [
    {
     "name": "stderr",
     "output_type": "stream",
     "text": [
      "/home/adrian/anaconda3/lib/python3.7/site-packages/ipykernel_launcher.py:11: SettingWithCopyWarning: \n",
      "A value is trying to be set on a copy of a slice from a DataFrame.\n",
      "Try using .loc[row_indexer,col_indexer] = value instead\n",
      "\n",
      "See the caveats in the documentation: https://pandas.pydata.org/pandas-docs/stable/user_guide/indexing.html#returning-a-view-versus-a-copy\n",
      "  # This is added back by InteractiveShellApp.init_path()\n",
      "/home/adrian/anaconda3/lib/python3.7/site-packages/ipykernel_launcher.py:14: SettingWithCopyWarning: \n",
      "A value is trying to be set on a copy of a slice from a DataFrame.\n",
      "Try using .loc[row_indexer,col_indexer] = value instead\n",
      "\n",
      "See the caveats in the documentation: https://pandas.pydata.org/pandas-docs/stable/user_guide/indexing.html#returning-a-view-versus-a-copy\n",
      "  \n"
     ]
    }
   ],
   "source": [
    "Data = [[df_ATG7_Normal, 'Normal'], [df_ATG7_Primary, 'Primary']]\n",
    "isoforms = [[\"ATG7_1\", \"iso1\"], [\"ATG7_2\", \"iso2\"]]\n",
    "\n",
    "df_LoHi = [] \n",
    "\n",
    "for df in Data:\n",
    "  for isoform in isoforms:\n",
    "    xMed = df[0][isoform[0]].median()\n",
    "\n",
    "    low = df[0].loc[df[0][isoform[0]] < xMed]\n",
    "    low['L/H'] = \"Low_\"+isoform[1]\n",
    "\n",
    "    high = df[0].loc[df[0][isoform[0]] > xMed]\n",
    "    high['L/H'] = \"High_\"+isoform[1]\n",
    "\n",
    "  #merge low and high\n",
    "  concat = pandas.concat([low, high], axis=0)\n",
    "  col = concat.pop('L/H')\n",
    "  concat.insert(3, 'L/H', col)\n",
    "  df_LoHi.append(concat)\n",
    "\n",
    "normal_LoHi = df_LoHi[0]\n",
    "primary_LoHi = df_LoHi[1]"
   ]
  },
  {
   "cell_type": "markdown",
   "metadata": {
    "id": "fbjL51C8RltI"
   },
   "source": [
    "## B) Whole gene expression"
   ]
  },
  {
   "cell_type": "code",
   "execution_count": 12,
   "metadata": {
    "colab": {
     "base_uri": "https://localhost:8080/",
     "height": 127
    },
    "executionInfo": {
     "elapsed": 560,
     "status": "ok",
     "timestamp": 1636492035763,
     "user": {
      "displayName": "a b",
      "photoUrl": "https://lh3.googleusercontent.com/a/default-user=s64",
      "userId": "14720607983357227806"
     },
     "user_tz": 0
    },
    "id": "dpYmq2ernzq8",
    "outputId": "efe90882-eeb3-4e5a-c0d5-c6ab0c083148"
   },
   "outputs": [
    {
     "name": "stdout",
     "output_type": "stream",
     "text": [
      "22796\n"
     ]
    },
    {
     "data": {
      "text/html": [
       "<div>\n",
       "<style scoped>\n",
       "    .dataframe tbody tr th:only-of-type {\n",
       "        vertical-align: middle;\n",
       "    }\n",
       "\n",
       "    .dataframe tbody tr th {\n",
       "        vertical-align: top;\n",
       "    }\n",
       "\n",
       "    .dataframe thead th {\n",
       "        text-align: right;\n",
       "    }\n",
       "</style>\n",
       "<table border=\"1\" class=\"dataframe\">\n",
       "  <thead>\n",
       "    <tr style=\"text-align: right;\">\n",
       "      <th></th>\n",
       "      <th>ensembl_gene_id</th>\n",
       "      <th>hgnc_symbol</th>\n",
       "      <th>entrezgene_id</th>\n",
       "      <th>transcript_biotype</th>\n",
       "    </tr>\n",
       "  </thead>\n",
       "  <tbody>\n",
       "    <tr>\n",
       "      <th>1</th>\n",
       "      <td>ENSG00000198888</td>\n",
       "      <td>MT-ND1</td>\n",
       "      <td>4535.0</td>\n",
       "      <td>protein_coding</td>\n",
       "    </tr>\n",
       "    <tr>\n",
       "      <th>2</th>\n",
       "      <td>ENSG00000198763</td>\n",
       "      <td>MT-ND2</td>\n",
       "      <td>4536.0</td>\n",
       "      <td>protein_coding</td>\n",
       "    </tr>\n",
       "  </tbody>\n",
       "</table>\n",
       "</div>"
      ],
      "text/plain": [
       "   ensembl_gene_id hgnc_symbol  entrezgene_id transcript_biotype\n",
       "1  ENSG00000198888      MT-ND1         4535.0     protein_coding\n",
       "2  ENSG00000198763      MT-ND2         4536.0     protein_coding"
      ]
     },
     "execution_count": 12,
     "metadata": {},
     "output_type": "execute_result"
    }
   ],
   "source": [
    "#Import list of protein coding transcripts\n",
    "protein_coding_directory = input_file_directory + \"protein_coding_list.txt\"\n",
    "protein_coding_list= pandas.read_csv(protein_coding_directory, sep = \"\\t\")\n",
    "print(len(protein_coding_list))\n",
    "protein_coding_list.head(2)"
   ]
  },
  {
   "cell_type": "code",
   "execution_count": 13,
   "metadata": {
    "colab": {
     "base_uri": "https://localhost:8080/"
    },
    "executionInfo": {
     "elapsed": 3274,
     "status": "ok",
     "timestamp": 1636492039025,
     "user": {
      "displayName": "a b",
      "photoUrl": "https://lh3.googleusercontent.com/a/default-user=s64",
      "userId": "14720607983357227806"
     },
     "user_tz": 0
    },
    "id": "9ZeS66upWtKU",
    "outputId": "ad500b65-3fff-4500-e2bd-77a814faeffd"
   },
   "outputs": [
    {
     "name": "stdout",
     "output_type": "stream",
     "text": [
      "CPU times: user 2min 31s, sys: 3.62 s, total: 2min 35s\n",
      "Wall time: 2min 35s\n"
     ]
    }
   ],
   "source": [
    "%%time\n",
    "\n",
    "df_gexpr_normal= pandas.read_csv(normal_tissue_expression_file, sep = \"\\t\")\n",
    "df_gexpr_primary= pandas.read_csv(primary_tumor_expression_file, sep = \"\\t\")"
   ]
  },
  {
   "cell_type": "code",
   "execution_count": 14,
   "metadata": {
    "executionInfo": {
     "elapsed": 50,
     "status": "ok",
     "timestamp": 1636492039026,
     "user": {
      "displayName": "a b",
      "photoUrl": "https://lh3.googleusercontent.com/a/default-user=s64",
      "userId": "14720607983357227806"
     },
     "user_tz": 0
    },
    "id": "oWVf4gAGEMRG"
   },
   "outputs": [],
   "source": [
    "#Preparation protein coding gene expression\n",
    "#remove dot in ENSEMBL name. Function split created at the beginning\n",
    "data = [df_gexpr_normal, df_gexpr_primary]\n",
    "\n",
    "df_protcoding_exp = []\n",
    "for df in data: \n",
    "  #remove dot in ens name\n",
    "  df[\"sample\"] = df[\"sample\"].apply(split)\n",
    "  #see if have duplicate\n",
    "  # print(df.duplicated(subset=['sample']).sum())\n",
    "\n",
    "  #Merge with prot coding list\n",
    "  df.rename(columns = {'sample' : 'ensembl_gene_id'}, inplace = True)\n",
    "  dfmerged = protein_coding_list.merge(df)\n",
    "  df_protcoding_exp.append(dfmerged)\n",
    "\n",
    "  #control merge is correct\n",
    "  # print(\"control merge is correct\")\n",
    "  # print(df.loc[df['ensembl_gene_id'] == 'ENSG00000198712'])\n",
    "  # print(dfmerged.loc[dfmerged['ensembl_gene_id'] == 'ENSG00000198712'])\n",
    "\n",
    "normal_protcoding = df_protcoding_exp[0]\n",
    "primary_protcoding = df_protcoding_exp[1]"
   ]
  },
  {
   "cell_type": "code",
   "execution_count": 15,
   "metadata": {
    "colab": {
     "base_uri": "https://localhost:8080/"
    },
    "executionInfo": {
     "elapsed": 411,
     "status": "ok",
     "timestamp": 1636492039390,
     "user": {
      "displayName": "a b",
      "photoUrl": "https://lh3.googleusercontent.com/a/default-user=s64",
      "userId": "14720607983357227806"
     },
     "user_tz": 0
    },
    "id": "9b0Bg43gEMRM",
    "outputId": "5fd80c64-c330-4018-e8eb-39b14cf30627"
   },
   "outputs": [
    {
     "name": "stdout",
     "output_type": "stream",
     "text": [
      "df_isoform is:  16614\n",
      "df_gene_exp is:  2\n",
      "df_merged:  7429\n"
     ]
    },
    {
     "name": "stderr",
     "output_type": "stream",
     "text": [
      "/home/adrian/anaconda3/lib/python3.7/site-packages/ipykernel_launcher.py:29: FutureWarning: In a future version of pandas all arguments of DataFrame.drop except for the argument 'labels' will be keyword-only\n"
     ]
    },
    {
     "name": "stdout",
     "output_type": "stream",
     "text": [
      "df_isoform is:  16614\n",
      "df_gene_exp is:  2\n",
      "df_merged:  9185\n",
      "CPU times: user 2min 9s, sys: 12.5 s, total: 2min 22s\n",
      "Wall time: 2min 21s\n"
     ]
    }
   ],
   "source": [
    "%%time\n",
    "\n",
    "#Preparation of the global dataframe\n",
    "data = [[normal_protcoding, df_ATG7_Normal], [primary_protcoding, df_ATG7_Primary]]\n",
    "\n",
    "df_final = []\n",
    "\n",
    "for df in data:\n",
    "  \n",
    "  #transpose the table \n",
    "  curr_df = df[0].copy()\n",
    "  curr_df = numpy.transpose(curr_df)\n",
    "\n",
    "  #Change head column & delete the name of the column index; choose ENSEMBL\n",
    "  curr_df.columns = curr_df.iloc[0]\n",
    "  curr_df.columns.name = None\n",
    "  curr_df = curr_df.reset_index()\n",
    "\n",
    "  #Delete the first rows & columns rename to merge\n",
    "  curr_df = curr_df.drop(curr_df.index[0:4])\n",
    "  curr_df.rename(columns = {'index' : 'sample'}, inplace = True)\n",
    "  \n",
    "  #Merge the two df to have isoform expression + whole gene expression \n",
    "  df_merged = pandas.merge(df[1], curr_df, on= 'sample')\n",
    "\n",
    "  print('df_isoform is: ', len(df_Norm_Prim))\n",
    "  print('df_gene_exp is: ', len(df))\n",
    "  print('df_merged: ', len(df_merged))\n",
    "\n",
    "  #delete the sample column and select column\n",
    "  df_merged = df_merged.drop(\"sample\", 1)\n",
    "  df_merged = df_merged.drop(df_merged.columns[5:19], axis=1)\n",
    "  \n",
    "  #save in list\n",
    "  df_final.append(df_merged)\n",
    "\n",
    "\n",
    "df_normal_expr = df_final[0]\n",
    "df_primary_expr = df_final[1]"
   ]
  },
  {
   "cell_type": "code",
   "execution_count": 16,
   "metadata": {
    "colab": {
     "base_uri": "https://localhost:8080/",
     "height": 307
    },
    "executionInfo": {
     "elapsed": 304,
     "status": "ok",
     "timestamp": 1636492039687,
     "user": {
      "displayName": "a b",
      "photoUrl": "https://lh3.googleusercontent.com/a/default-user=s64",
      "userId": "14720607983357227806"
     },
     "user_tz": 0
    },
    "id": "_1DOJmMhYbQc",
    "outputId": "6c9fc0d6-2f4d-4ba2-b929-03ce15606c31"
   },
   "outputs": [
    {
     "data": {
      "text/html": [
       "<div>\n",
       "<style scoped>\n",
       "    .dataframe tbody tr th:only-of-type {\n",
       "        vertical-align: middle;\n",
       "    }\n",
       "\n",
       "    .dataframe tbody tr th {\n",
       "        vertical-align: top;\n",
       "    }\n",
       "\n",
       "    .dataframe thead th {\n",
       "        text-align: right;\n",
       "    }\n",
       "</style>\n",
       "<table border=\"1\" class=\"dataframe\">\n",
       "  <thead>\n",
       "    <tr style=\"text-align: right;\">\n",
       "      <th></th>\n",
       "      <th>Sample_Type</th>\n",
       "      <th>Primary_Site</th>\n",
       "      <th>ATG7</th>\n",
       "      <th>ATG7_1</th>\n",
       "      <th>ATG7_2</th>\n",
       "      <th>ENSG00000198888</th>\n",
       "      <th>ENSG00000198763</th>\n",
       "      <th>ENSG00000198804</th>\n",
       "      <th>ENSG00000198712</th>\n",
       "      <th>ENSG00000228253</th>\n",
       "      <th>...</th>\n",
       "      <th>ENSG00000160678</th>\n",
       "      <th>ENSG00000160679</th>\n",
       "      <th>ENSG00000143553</th>\n",
       "      <th>ENSG00000214193</th>\n",
       "      <th>ENSG00000196182</th>\n",
       "      <th>ENSG00000181817</th>\n",
       "      <th>ENSG00000116885</th>\n",
       "      <th>ENSG00000116898</th>\n",
       "      <th>ENSG00000119535</th>\n",
       "      <th>ENSG00000142694</th>\n",
       "    </tr>\n",
       "  </thead>\n",
       "  <tbody>\n",
       "    <tr>\n",
       "      <th>0</th>\n",
       "      <td>Normal Tissue</td>\n",
       "      <td>Muscle</td>\n",
       "      <td>5.042</td>\n",
       "      <td>3.860</td>\n",
       "      <td>2.390</td>\n",
       "      <td>14.0639</td>\n",
       "      <td>13.9595</td>\n",
       "      <td>13.8503</td>\n",
       "      <td>14.4453</td>\n",
       "      <td>15.0971</td>\n",
       "      <td>...</td>\n",
       "      <td>2.7868</td>\n",
       "      <td>5.6494</td>\n",
       "      <td>5.0193</td>\n",
       "      <td>2.694</td>\n",
       "      <td>4.5274</td>\n",
       "      <td>5.0998</td>\n",
       "      <td>2.3423</td>\n",
       "      <td>6.079</td>\n",
       "      <td>6.4861</td>\n",
       "      <td>4.97</td>\n",
       "    </tr>\n",
       "    <tr>\n",
       "      <th>1</th>\n",
       "      <td>Normal Tissue</td>\n",
       "      <td>Muscle</td>\n",
       "      <td>4.252</td>\n",
       "      <td>2.322</td>\n",
       "      <td>1.956</td>\n",
       "      <td>13.9265</td>\n",
       "      <td>13.5455</td>\n",
       "      <td>15.2642</td>\n",
       "      <td>14.3855</td>\n",
       "      <td>15.1867</td>\n",
       "      <td>...</td>\n",
       "      <td>9.3501</td>\n",
       "      <td>6.1104</td>\n",
       "      <td>6.057</td>\n",
       "      <td>1.177</td>\n",
       "      <td>6.8792</td>\n",
       "      <td>6.4325</td>\n",
       "      <td>2.1013</td>\n",
       "      <td>6.7035</td>\n",
       "      <td>1.1706</td>\n",
       "      <td>1.3167</td>\n",
       "    </tr>\n",
       "    <tr>\n",
       "      <th>2</th>\n",
       "      <td>Normal Tissue</td>\n",
       "      <td>Muscle</td>\n",
       "      <td>3.909</td>\n",
       "      <td>2.602</td>\n",
       "      <td>1.345</td>\n",
       "      <td>14.2878</td>\n",
       "      <td>14.1511</td>\n",
       "      <td>14.3722</td>\n",
       "      <td>13.8211</td>\n",
       "      <td>14.8161</td>\n",
       "      <td>...</td>\n",
       "      <td>9.0646</td>\n",
       "      <td>5.975</td>\n",
       "      <td>5.1173</td>\n",
       "      <td>1.8683</td>\n",
       "      <td>4.6136</td>\n",
       "      <td>5.009</td>\n",
       "      <td>2.0604</td>\n",
       "      <td>5.7848</td>\n",
       "      <td>1.7489</td>\n",
       "      <td>4.6514</td>\n",
       "    </tr>\n",
       "    <tr>\n",
       "      <th>3</th>\n",
       "      <td>Normal Tissue</td>\n",
       "      <td>Muscle</td>\n",
       "      <td>3.854</td>\n",
       "      <td>2.568</td>\n",
       "      <td>1.428</td>\n",
       "      <td>13.8853</td>\n",
       "      <td>14.2716</td>\n",
       "      <td>15.1167</td>\n",
       "      <td>14.0622</td>\n",
       "      <td>15.5897</td>\n",
       "      <td>...</td>\n",
       "      <td>9.2252</td>\n",
       "      <td>5.4941</td>\n",
       "      <td>5.588</td>\n",
       "      <td>-0.4521</td>\n",
       "      <td>5.6631</td>\n",
       "      <td>6.3797</td>\n",
       "      <td>2.5683</td>\n",
       "      <td>7.3214</td>\n",
       "      <td>1.614</td>\n",
       "      <td>1.5563</td>\n",
       "    </tr>\n",
       "    <tr>\n",
       "      <th>4</th>\n",
       "      <td>Normal Tissue</td>\n",
       "      <td>Muscle</td>\n",
       "      <td>3.822</td>\n",
       "      <td>2.164</td>\n",
       "      <td>1.293</td>\n",
       "      <td>12.9986</td>\n",
       "      <td>13.757</td>\n",
       "      <td>14.4661</td>\n",
       "      <td>13.4082</td>\n",
       "      <td>14.0564</td>\n",
       "      <td>...</td>\n",
       "      <td>8.9779</td>\n",
       "      <td>6.1502</td>\n",
       "      <td>5.133</td>\n",
       "      <td>2.0289</td>\n",
       "      <td>6.8202</td>\n",
       "      <td>6.1789</td>\n",
       "      <td>1.8524</td>\n",
       "      <td>6.7685</td>\n",
       "      <td>2.8838</td>\n",
       "      <td>1.8323</td>\n",
       "    </tr>\n",
       "  </tbody>\n",
       "</table>\n",
       "<p>5 rows × 19541 columns</p>\n",
       "</div>"
      ],
      "text/plain": [
       "     Sample_Type Primary_Site   ATG7  ATG7_1  ATG7_2 ENSG00000198888  \\\n",
       "0  Normal Tissue       Muscle  5.042   3.860   2.390         14.0639   \n",
       "1  Normal Tissue       Muscle  4.252   2.322   1.956         13.9265   \n",
       "2  Normal Tissue       Muscle  3.909   2.602   1.345         14.2878   \n",
       "3  Normal Tissue       Muscle  3.854   2.568   1.428         13.8853   \n",
       "4  Normal Tissue       Muscle  3.822   2.164   1.293         12.9986   \n",
       "\n",
       "  ENSG00000198763 ENSG00000198804 ENSG00000198712 ENSG00000228253  ...  \\\n",
       "0         13.9595         13.8503         14.4453         15.0971  ...   \n",
       "1         13.5455         15.2642         14.3855         15.1867  ...   \n",
       "2         14.1511         14.3722         13.8211         14.8161  ...   \n",
       "3         14.2716         15.1167         14.0622         15.5897  ...   \n",
       "4          13.757         14.4661         13.4082         14.0564  ...   \n",
       "\n",
       "  ENSG00000160678 ENSG00000160679 ENSG00000143553 ENSG00000214193  \\\n",
       "0          2.7868          5.6494          5.0193           2.694   \n",
       "1          9.3501          6.1104           6.057           1.177   \n",
       "2          9.0646           5.975          5.1173          1.8683   \n",
       "3          9.2252          5.4941           5.588         -0.4521   \n",
       "4          8.9779          6.1502           5.133          2.0289   \n",
       "\n",
       "  ENSG00000196182 ENSG00000181817 ENSG00000116885 ENSG00000116898  \\\n",
       "0          4.5274          5.0998          2.3423           6.079   \n",
       "1          6.8792          6.4325          2.1013          6.7035   \n",
       "2          4.6136           5.009          2.0604          5.7848   \n",
       "3          5.6631          6.3797          2.5683          7.3214   \n",
       "4          6.8202          6.1789          1.8524          6.7685   \n",
       "\n",
       "  ENSG00000119535 ENSG00000142694  \n",
       "0          6.4861            4.97  \n",
       "1          1.1706          1.3167  \n",
       "2          1.7489          4.6514  \n",
       "3           1.614          1.5563  \n",
       "4          2.8838          1.8323  \n",
       "\n",
       "[5 rows x 19541 columns]"
      ]
     },
     "execution_count": 16,
     "metadata": {},
     "output_type": "execute_result"
    }
   ],
   "source": [
    "df_normal_expr.head()"
   ]
  },
  {
   "cell_type": "markdown",
   "metadata": {
    "id": "R8fLWHXOBYJl"
   },
   "source": [
    "# III] ATG7 expression"
   ]
  },
  {
   "cell_type": "markdown",
   "metadata": {
    "id": "ufG3BGqPkmrk"
   },
   "source": [
    "##A) Distribution\n"
   ]
  },
  {
   "cell_type": "code",
   "execution_count": 17,
   "metadata": {
    "colab": {
     "base_uri": "https://localhost:8080/",
     "height": 1000
    },
    "executionInfo": {
     "elapsed": 1834,
     "status": "ok",
     "timestamp": 1636492044577,
     "user": {
      "displayName": "a b",
      "photoUrl": "https://lh3.googleusercontent.com/a/default-user=s64",
      "userId": "14720607983357227806"
     },
     "user_tz": 0
    },
    "id": "vl1-Yk-8NVZi",
    "outputId": "ea49efa4-c89c-4430-a5ed-0e6cc9b0d607"
   },
   "outputs": [
    {
     "data": {
      "image/png": "[encoded data removed]",
      "text/plain": [
       "<Figure size 864x576 with 1 Axes>"
      ]
     },
     "metadata": {
      "needs_background": "light"
     },
     "output_type": "display_data"
    },
    {
     "data": {
      "image/png": "[encoded data removed]",
      "text/plain": [
       "<Figure size 864x576 with 1 Axes>"
      ]
     },
     "metadata": {
      "needs_background": "light"
     },
     "output_type": "display_data"
    },
    {
     "data": {
      "image/png": "[encoded data removed]",
      "text/plain": [
       "<Figure size 864x576 with 1 Axes>"
      ]
     },
     "metadata": {
      "needs_background": "light"
     },
     "output_type": "display_data"
    },
    {
     "data": {
      "text/plain": [
       "<Figure size 864x576 with 0 Axes>"
      ]
     },
     "metadata": {},
     "output_type": "display_data"
    }
   ],
   "source": [
    "# Distribution graph, for ATG7, iso1 & iso2\n",
    "\n",
    "all_dfs = [[df_ATG7_Normal, 'in all tissue', df_ATG7_Primary, 'all primary tumors']]\n",
    "\n",
    "isoforms = [['log2_+1_ATG7(total)', 'ATG7'], ['log2_+1_ATG7(1)', 'ATG7(1)'], ['log2_+1_ATG7(2)', 'ATG7(2)']]\n",
    "\n",
    "\n",
    "for df in all_dfs:\n",
    "  for isoform in isoforms:\n",
    "    xData = df[0][isoform[0]]\n",
    "    x2Data = df[2][isoform[0]]\n",
    "\n",
    "    seaborn.kdeplot(xData, color = 'mediumaquamarine', fill = True)\n",
    "    seaborn.kdeplot(x2Data, color = 'sandybrown', fill = True)\n",
    "\n",
    "    plt.xlabel('log2 '+ isoform[1]+ ' +1')\n",
    "    plt.title(isoform[1]+ ' expression ' + df[1] )\n",
    "    plt.legend(labels=[\"Normal Tissue\",\"Primary Tumor \"])\n",
    "    plt.show()\n",
    "    plt.clf()"
   ]
  },
  {
   "cell_type": "markdown",
   "metadata": {
    "id": "PL_4aao-49o9"
   },
   "source": [
    "##B) Percentage do not express ATG7 isoforms"
   ]
  },
  {
   "cell_type": "code",
   "execution_count": 18,
   "metadata": {
    "colab": {
     "base_uri": "https://localhost:8080/"
    },
    "executionInfo": {
     "elapsed": 18,
     "status": "ok",
     "timestamp": 1636492044579,
     "user": {
      "displayName": "a b",
      "photoUrl": "https://lh3.googleusercontent.com/a/default-user=s64",
      "userId": "14720607983357227806"
     },
     "user_tz": 0
    },
    "id": "zwxExNKnmvhu",
    "outputId": "5fd8f80d-fd84-4762-a721-5e47f4d40a72"
   },
   "outputs": [
    {
     "name": "stdout",
     "output_type": "stream",
     "text": [
      "all normal tissue\n",
      "0.4 % of tumor do not express ATG7\n",
      "0.4 % of tumor do not express ATG7(1)\n",
      "24.3 % of tumor do not express ATG7(2)\n",
      "59.2 % of tumor do not express ATG7(3)\n",
      "\n",
      "all primary tumor\n",
      "0.0 % of tumor do not express ATG7\n",
      "0.0 % of tumor do not express ATG7(1)\n",
      "13.4 % of tumor do not express ATG7(2)\n",
      "33.6 % of tumor do not express ATG7(3)\n",
      "\n"
     ]
    }
   ],
   "source": [
    "#Percentage of patients: \n",
    "\n",
    "all_dfs = [[df_ATG7_Normal, 'all normal tissue'], [df_ATG7_Primary, 'all primary tumor']]\n",
    "\n",
    "isoforms = [['ATG7(total)', 'ATG7'], ['ATG7(1)', 'ATG7(1)'], ['ATG7(2)', 'ATG7(2)'], ['ATG7(3)', 'ATG7(3)']]\n",
    "\n",
    "for df in all_dfs:\n",
    "  print(df[1])\n",
    "  for isoform in isoforms:\n",
    "        \n",
    "    QUOI = isoform[1]\n",
    "    OU = df[1]\n",
    "    all = (df[0][isoform[0]]).shape\n",
    "    no_exp = (df[0][isoform[0]]<0.1).sum()\n",
    "    perc_no_exp = (no_exp*100)/all\n",
    "    perc_no_exp = float(perc_no_exp)\n",
    "\n",
    "    # print(\"The percentage of patient who do not express\", QUOI, OU, \"is:\", round(perc_no_exp,1),'%')\n",
    "    print(round(perc_no_exp,1),'% of tumor do not express', QUOI)\n",
    "  print()\n"
   ]
  },
  {
   "cell_type": "markdown",
   "metadata": {
    "id": "l9R88UMYsp9h"
   },
   "source": [
    "## C) Expression figures"
   ]
  },
  {
   "cell_type": "markdown",
   "metadata": {
    "id": "j87nxfPMrMLB"
   },
   "source": [
    "### 1) Value TPM"
   ]
  },
  {
   "cell_type": "code",
   "execution_count": 19,
   "metadata": {
    "colab": {
     "base_uri": "https://localhost:8080/",
     "height": 589
    },
    "executionInfo": {
     "elapsed": 4010,
     "status": "ok",
     "timestamp": 1636492048575,
     "user": {
      "displayName": "a b",
      "photoUrl": "https://lh3.googleusercontent.com/a/default-user=s64",
      "userId": "14720607983357227806"
     },
     "user_tz": 0
    },
    "id": "3_zvT1lweuYb",
    "outputId": "82ae0fb2-c386-431b-bf6d-872919856cbd"
   },
   "outputs": [
    {
     "name": "stdout",
     "output_type": "stream",
     "text": [
      "16614\n"
     ]
    },
    {
     "name": "stderr",
     "output_type": "stream",
     "text": [
      "/home/adrian/anaconda3/lib/python3.7/site-packages/ipykernel_launcher.py:30: SettingWithCopyWarning: \n",
      "A value is trying to be set on a copy of a slice from a DataFrame\n",
      "\n",
      "See the caveats in the documentation: https://pandas.pydata.org/pandas-docs/stable/user_guide/indexing.html#returning-a-view-versus-a-copy\n",
      "/home/adrian/anaconda3/lib/python3.7/site-packages/ipykernel_launcher.py:31: SettingWithCopyWarning: \n",
      "A value is trying to be set on a copy of a slice from a DataFrame\n",
      "\n",
      "See the caveats in the documentation: https://pandas.pydata.org/pandas-docs/stable/user_guide/indexing.html#returning-a-view-versus-a-copy\n",
      "/home/adrian/anaconda3/lib/python3.7/site-packages/ipykernel_launcher.py:32: SettingWithCopyWarning: \n",
      "A value is trying to be set on a copy of a slice from a DataFrame\n",
      "\n",
      "See the caveats in the documentation: https://pandas.pydata.org/pandas-docs/stable/user_guide/indexing.html#returning-a-view-versus-a-copy\n"
     ]
    },
    {
     "data": {
      "image/png": "[encoded data removed]",
      "text/plain": [
       "<Figure size 634.375x360 with 1 Axes>"
      ]
     },
     "metadata": {
      "needs_background": "light"
     },
     "output_type": "display_data"
    }
   ],
   "source": [
    "# Distribution: Data preparation + graph\n",
    "\n",
    "data = [[df_Norm_Prim, 'all tissue']]\n",
    "\n",
    "for df in data:\n",
    "   \n",
    "  shape = df[0].shape\n",
    "  shape = shape[0]\n",
    "  print(shape)\n",
    "\n",
    "  #select the sample type column\n",
    "  sample_type = {'sample_type':[df[0].iloc[:,1][i]\n",
    "      for i in range(0, shape)]}\n",
    "\n",
    "  #convert to df, and copy it 3 times\n",
    "  sample_typedf = pandas.DataFrame(sample_type)\n",
    "  sample_typedf = pandas.concat([sample_typedf,sample_typedf,sample_typedf])\n",
    "  sample_typedf.reset_index(drop=True, inplace=True)\n",
    "\n",
    "  # Y for expression value \n",
    "  y = {'y':[df[0].iloc[:,j][i]\n",
    "      for j in range(9,12)\n",
    "        for i in range(0, shape)]}\n",
    "\n",
    "  #create df with Y \n",
    "  data_distrib = pandas.DataFrame(y)\n",
    "\n",
    "  # X for ATG7/iso1/iso2\n",
    "  data_distrib['x'] = ''\n",
    "  data_distrib['x'][: shape] = 'ATG7'\n",
    "  data_distrib['x'][shape: shape*2] = 'ATG7(1)'\n",
    "  data_distrib['x'][shape*2:] = 'ATG7(2)'\n",
    "\n",
    "  # Will be used for Hue\n",
    "  data_distrib['Sample Type'] = sample_typedf['sample_type']\n",
    "\n",
    "  #graph\n",
    "  seaborn.catplot(x=\"x\", y=\"y\", hue=\"Sample Type\", aspect= 1.2, kind=\"box\", palette = 'Set2', data = data_distrib, \n",
    "                  boxprops={'lw':2}, medianprops={'lw':2}, whiskerprops={'lw':2}, showcaps=True, showfliers=False)\n",
    "  \n",
    "  plt.ylabel('Expression of ATG7 (TPM)')\n",
    "  plt.xlabel('')\n",
    "  plt.title('ATG7 expression in '+ df[1], x=.55)"
   ]
  },
  {
   "cell_type": "code",
   "execution_count": 20,
   "metadata": {
    "colab": {
     "base_uri": "https://localhost:8080/"
    },
    "executionInfo": {
     "elapsed": 25,
     "status": "ok",
     "timestamp": 1636492048577,
     "user": {
      "displayName": "a b",
      "photoUrl": "https://lh3.googleusercontent.com/a/default-user=s64",
      "userId": "14720607983357227806"
     },
     "user_tz": 0
    },
    "id": "lqjTE5owk0cD",
    "outputId": "1bb4f390-c9f0-4b82-8d18-58191316ccbc"
   },
   "outputs": [
    {
     "name": "stdout",
     "output_type": "stream",
     "text": [
      "the pvalue between all normal tissue(3.438) and all primary tumors(3.820) for ATG7 is 0.000E+00\n",
      "the pvalue between all normal tissue(2.616) and all primary tumors(2.778) for ATG7_1 is 1.238E-108\n",
      "the pvalue between all normal tissue(-0.576) and all primary tumors(0.949) for ATG7_2 is 0.000E+00\n",
      "\n"
     ]
    }
   ],
   "source": [
    "#Distribution: Stats for all \n",
    "\n",
    "all_dfs = [[df_ATG7_Normal, 'all normal tissue', df_ATG7_Primary, 'all primary tumors']]\n",
    "\n",
    "isoforms = ['ATG7', 'ATG7_1', 'ATG7_2']\n",
    "\n",
    "for df in all_dfs:\n",
    "  for isoform in isoforms:\n",
    "\n",
    "    n1 = \"{:.3f}\".format(numpy.median(df[0][isoform]))\n",
    "    n2 = \"{:.3f}\".format(numpy.median(df[2][isoform]))\n",
    "\n",
    "    # Mann-Whitney analysis \n",
    "    statistic, pvalue = scipy.stats.mannwhitneyu(df[0][isoform], df[2][isoform])\n",
    "    Pvalue = \"{:.3E}\".format(pvalue)\n",
    "    print(\"the pvalue between\", df[1]+'('+n1+')', \"and\", df[3]+'('+n2+')', \"for\", isoform, 'is', Pvalue)\n",
    "  print()\n"
   ]
  },
  {
   "cell_type": "markdown",
   "metadata": {
    "id": "rccgpnCWrUyE"
   },
   "source": [
    "### 2) Normalized"
   ]
  },
  {
   "cell_type": "code",
   "execution_count": 21,
   "metadata": {
    "colab": {
     "base_uri": "https://localhost:8080/",
     "height": 531
    },
    "executionInfo": {
     "elapsed": 3382,
     "status": "ok",
     "timestamp": 1636492051940,
     "user": {
      "displayName": "a b",
      "photoUrl": "https://lh3.googleusercontent.com/a/default-user=s64",
      "userId": "14720607983357227806"
     },
     "user_tz": 0
    },
    "id": "n_h00in7pPDk",
    "outputId": "ba1f630c-e76a-42e5-d8a5-958ac7dec4a6"
   },
   "outputs": [
    {
     "name": "stdout",
     "output_type": "stream",
     "text": [
      "16614\n"
     ]
    },
    {
     "name": "stderr",
     "output_type": "stream",
     "text": [
      "/home/adrian/anaconda3/lib/python3.7/site-packages/ipykernel_launcher.py:31: SettingWithCopyWarning: \n",
      "A value is trying to be set on a copy of a slice from a DataFrame\n",
      "\n",
      "See the caveats in the documentation: https://pandas.pydata.org/pandas-docs/stable/user_guide/indexing.html#returning-a-view-versus-a-copy\n",
      "/home/adrian/anaconda3/lib/python3.7/site-packages/ipykernel_launcher.py:32: SettingWithCopyWarning: \n",
      "A value is trying to be set on a copy of a slice from a DataFrame\n",
      "\n",
      "See the caveats in the documentation: https://pandas.pydata.org/pandas-docs/stable/user_guide/indexing.html#returning-a-view-versus-a-copy\n"
     ]
    },
    {
     "data": {
      "image/png": "[encoded data removed]",
      "text/plain": [
       "<Figure size 634.375x360 with 1 Axes>"
      ]
     },
     "metadata": {
      "needs_background": "light"
     },
     "output_type": "display_data"
    }
   ],
   "source": [
    "# NORMALiZED Distribution: Data preparation + graph\n",
    "\n",
    "data = [[df_Norm_Prim, 'all_tissue']]\n",
    "\n",
    "\n",
    "for df in data:\n",
    "   \n",
    "  shape = df[0].shape\n",
    "  shape = shape[0]\n",
    "  print(shape)\n",
    "\n",
    "  #select the sample type column\n",
    "  sample_type = {'sample_type':[df[0].iloc[:,1][i]\n",
    "      for i in range(0, shape)]}\n",
    "\n",
    "  #convert to df, and copy it 3 times\n",
    "  sample_typedf = pandas.DataFrame(sample_type)\n",
    "  sample_typedf = pandas.concat([sample_typedf,sample_typedf,sample_typedf])\n",
    "  sample_typedf.reset_index(drop=True, inplace=True)\n",
    "\n",
    "  # Y for expression value \n",
    "  y = {'y':[df[0].iloc[:,j][i]\n",
    "      for j in range(18,20)\n",
    "        for i in range(0, shape)]}\n",
    "\n",
    "  #create df with Y \n",
    "  data_distrib = pandas.DataFrame(y)\n",
    "\n",
    "  # X for iso1/ATG7 and iso2/ATG7\n",
    "  data_distrib['x'] = ''\n",
    "  data_distrib['x'][: shape] = 'ATG7(1)/ATG7'\n",
    "  data_distrib['x'][shape:] = 'ATG7(2)/ATG7'\n",
    "\n",
    "\n",
    "  # Will be used for Hue\n",
    "  data_distrib['Sample Type'] = sample_typedf['sample_type']\n",
    "\n",
    "  #graph\n",
    "  seaborn.catplot(x=\"x\", y=\"y\", hue=\"Sample Type\", aspect= 1.2, kind=\"box\", palette = 'Set2', data = data_distrib, \n",
    "                  boxprops={'lw':2}, medianprops={'lw':2}, whiskerprops={'lw':2}, showcaps=True, showfliers=False)\n",
    "  \n",
    "  plt.ylabel('ATG7 isoforms/total ATG7 in TPM')\n",
    "  plt.xlabel('')\n",
    "  plt.title('ATG7 proportion in '+ df[1], x=0.55)\n"
   ]
  },
  {
   "cell_type": "code",
   "execution_count": 22,
   "metadata": {
    "colab": {
     "base_uri": "https://localhost:8080/"
    },
    "executionInfo": {
     "elapsed": 64,
     "status": "ok",
     "timestamp": 1636492051949,
     "user": {
      "displayName": "a b",
      "photoUrl": "https://lh3.googleusercontent.com/a/default-user=s64",
      "userId": "14720607983357227806"
     },
     "user_tz": 0
    },
    "id": "JflZDsJbpPDl",
    "outputId": "778c8836-eb29-43a3-8d78-a2e66a959705"
   },
   "outputs": [
    {
     "name": "stdout",
     "output_type": "stream",
     "text": [
      "NORMALIZED\n",
      "the pvalue between all normal tissue(0.595) and all primary tumors(0.507) for ATG7(1)norm is 4.743E-53\n",
      "the pvalue between all normal tissue(0.068) and all primary tumors(0.146) for ATG7(2)norm is 1.615E-186\n",
      "\n"
     ]
    }
   ],
   "source": [
    "#NORMALIZED Distribution: Stats for all \n",
    "\n",
    "all_dfs = [[df_ATG7_Normal, 'all normal tissue', df_ATG7_Primary, 'all primary tumors']]\n",
    "\n",
    "isoforms = ['ATG7(1)norm', 'ATG7(2)norm']\n",
    "print('NORMALIZED')\n",
    "\n",
    "for df in all_dfs:\n",
    "  for isoform in isoforms:\n",
    "\n",
    "    n1 = \"{:.3f}\".format(numpy.median(df[0][isoform]))\n",
    "    n2 = \"{:.3f}\".format(numpy.median(df[2][isoform]))\n",
    "\n",
    "    # Mann-Whitney analysis \n",
    "    statistic, pvalue = scipy.stats.mannwhitneyu(df[0][isoform], df[2][isoform])\n",
    "    Pvalue = \"{:.3E}\".format(pvalue)\n",
    "    print(\"the pvalue between\", df[1]+'('+n1+')', \"and\", df[3]+'('+n2+')', \"for\", isoform, 'is', Pvalue)\n",
    "  print()\n"
   ]
  },
  {
   "cell_type": "markdown",
   "metadata": {
    "id": "ivLjI2vHTV5A"
   },
   "source": [
    "#IV] Expression correlation "
   ]
  },
  {
   "cell_type": "markdown",
   "metadata": {
    "id": "Et5DpsPy4DBP"
   },
   "source": [
    "##1) between the two isoforms"
   ]
  },
  {
   "cell_type": "code",
   "execution_count": 23,
   "metadata": {
    "colab": {
     "base_uri": "https://localhost:8080/",
     "height": 1000
    },
    "executionInfo": {
     "elapsed": 43089,
     "status": "ok",
     "timestamp": 1636492105605,
     "user": {
      "displayName": "a b",
      "photoUrl": "https://lh3.googleusercontent.com/a/default-user=s64",
      "userId": "14720607983357227806"
     },
     "user_tz": 0
    },
    "id": "4azGSbHX1l11",
    "outputId": "58e8e7e9-319b-4553-8dbe-fd4502b97868"
   },
   "outputs": [
    {
     "name": "stdout",
     "output_type": "stream",
     "text": [
      "shape: (9185, 20)\n",
      "shape after removing extrem dots: (9176, 20)\n",
      "The correlation between iso1 and iso2 in normal tissue is: 0.02366015296692227 0.0414250994345116\n"
     ]
    },
    {
     "data": {
      "image/png": "[encoded data removed]",
      "text/plain": [
       "<Figure size 864x576 with 1 Axes>"
      ]
     },
     "metadata": {
      "needs_background": "light"
     },
     "output_type": "display_data"
    },
    {
     "name": "stdout",
     "output_type": "stream",
     "text": [
      "\n",
      "The correlation between iso1 and iso2 in primary tumors is: -0.1894636901702883 6.56308203038513e-75\n"
     ]
    },
    {
     "data": {
      "image/png": "[encoded data removed]",
      "text/plain": [
       "<Figure size 864x576 with 1 Axes>"
      ]
     },
     "metadata": {
      "needs_background": "light"
     },
     "output_type": "display_data"
    },
    {
     "name": "stdout",
     "output_type": "stream",
     "text": [
      "\n"
     ]
    },
    {
     "data": {
      "text/plain": [
       "<Figure size 864x576 with 0 Axes>"
      ]
     },
     "metadata": {},
     "output_type": "display_data"
    }
   ],
   "source": [
    "#isoform correlation in all tissue \n",
    "\n",
    "#three values are very high and make my graph ugly... I remove them.\n",
    "df_ATG7_Primary2 = df_ATG7_Primary[df_ATG7_Primary['ATG7(1)'] < 30 ]\n",
    "print(\"shape:\",df_ATG7_Primary.shape)\n",
    "print(\"shape after removing extrem dots:\",df_ATG7_Primary2.shape)\n",
    "\n",
    "\n",
    "tissues = [[df_ATG7_Normal, \"normal tissue\"], [df_ATG7_Primary2, \"primary tumors\"]]\n",
    "\n",
    "for tissue in tissues: \n",
    "  x = tissue[0]['ATG7(1)'].to_list()\n",
    "  y = tissue[0]['ATG7(2)'].to_list()\n",
    "\n",
    "  r_value, p_value = scipy.stats.spearmanr(x, y)\n",
    "  print(\"The correlation between iso1 and iso2 in\",tissue[1],\"is:\", r_value, p_value)\n",
    "\n",
    "  seaborn.regplot(x=x,y=y, x_bins=800, x_ci = 0, marker=\"+\")\n",
    "  name = \"Correlation between the two isoforms in \"+  tissue[1]\n",
    "  plt.title(name)\n",
    "  plt.xlabel(\"ATG7(1) expression in tpm\")\n",
    "  plt.ylabel('ATG7(2) expression tpm')\n",
    "  plt.show()\n",
    "  plt.clf()\n",
    "  print()\n"
   ]
  },
  {
   "cell_type": "markdown",
   "metadata": {
    "id": "RgHYwrKD4LgQ"
   },
   "source": [
    "##1) between all protein coding"
   ]
  },
  {
   "cell_type": "code",
   "execution_count": 24,
   "metadata": {
    "colab": {
     "base_uri": "https://localhost:8080/",
     "height": 80
    },
    "executionInfo": {
     "elapsed": 277,
     "status": "ok",
     "timestamp": 1636492136895,
     "user": {
      "displayName": "a b",
      "photoUrl": "https://lh3.googleusercontent.com/a/default-user=s64",
      "userId": "14720607983357227806"
     },
     "user_tz": 0
    },
    "id": "LxKzIf-63QkM",
    "outputId": "f67f04ce-b152-4702-a2e6-699099a11821"
   },
   "outputs": [
    {
     "data": {
      "text/html": [
       "<div>\n",
       "<style scoped>\n",
       "    .dataframe tbody tr th:only-of-type {\n",
       "        vertical-align: middle;\n",
       "    }\n",
       "\n",
       "    .dataframe tbody tr th {\n",
       "        vertical-align: top;\n",
       "    }\n",
       "\n",
       "    .dataframe thead th {\n",
       "        text-align: right;\n",
       "    }\n",
       "</style>\n",
       "<table border=\"1\" class=\"dataframe\">\n",
       "  <thead>\n",
       "    <tr style=\"text-align: right;\">\n",
       "      <th></th>\n",
       "      <th>ensembl_gene_id</th>\n",
       "      <th>hgnc_symbol</th>\n",
       "      <th>entrezgene_id</th>\n",
       "      <th>transcript_biotype</th>\n",
       "    </tr>\n",
       "  </thead>\n",
       "  <tbody>\n",
       "    <tr>\n",
       "      <th>19160</th>\n",
       "      <td>ENSG00000037749</td>\n",
       "      <td>MFAP3</td>\n",
       "      <td>4238.0</td>\n",
       "      <td>protein_coding</td>\n",
       "    </tr>\n",
       "  </tbody>\n",
       "</table>\n",
       "</div>"
      ],
      "text/plain": [
       "       ensembl_gene_id hgnc_symbol  entrezgene_id transcript_biotype\n",
       "19160  ENSG00000037749       MFAP3         4238.0     protein_coding"
      ]
     },
     "execution_count": 24,
     "metadata": {},
     "output_type": "execute_result"
    }
   ],
   "source": [
    "#to know the ensembl code for HK2\n",
    "protein_coding_list.loc[protein_coding_list['hgnc_symbol'] == 'MFAP3']"
   ]
  },
  {
   "cell_type": "code",
   "execution_count": 25,
   "metadata": {
    "colab": {
     "base_uri": "https://localhost:8080/",
     "height": 605
    },
    "executionInfo": {
     "elapsed": 317,
     "status": "ok",
     "timestamp": 1636492137471,
     "user": {
      "displayName": "a b",
      "photoUrl": "https://lh3.googleusercontent.com/a/default-user=s64",
      "userId": "14720607983357227806"
     },
     "user_tz": 0
    },
    "id": "-q76AwIOdJpY",
    "outputId": "d3130e35-9ec2-47d5-e7db-b1770af8f13a"
   },
   "outputs": [
    {
     "data": {
      "text/html": [
       "<div>\n",
       "<style scoped>\n",
       "    .dataframe tbody tr th:only-of-type {\n",
       "        vertical-align: middle;\n",
       "    }\n",
       "\n",
       "    .dataframe tbody tr th {\n",
       "        vertical-align: top;\n",
       "    }\n",
       "\n",
       "    .dataframe thead th {\n",
       "        text-align: right;\n",
       "    }\n",
       "</style>\n",
       "<table border=\"1\" class=\"dataframe\">\n",
       "  <thead>\n",
       "    <tr style=\"text-align: right;\">\n",
       "      <th></th>\n",
       "      <th>Sample_Type</th>\n",
       "      <th>Primary_Site</th>\n",
       "      <th>ATG7</th>\n",
       "      <th>ATG7_1</th>\n",
       "      <th>ATG7_2</th>\n",
       "      <th>ENSG00000198888</th>\n",
       "      <th>ENSG00000198763</th>\n",
       "      <th>ENSG00000198804</th>\n",
       "      <th>ENSG00000198712</th>\n",
       "      <th>ENSG00000228253</th>\n",
       "      <th>...</th>\n",
       "      <th>ENSG00000160678</th>\n",
       "      <th>ENSG00000160679</th>\n",
       "      <th>ENSG00000143553</th>\n",
       "      <th>ENSG00000214193</th>\n",
       "      <th>ENSG00000196182</th>\n",
       "      <th>ENSG00000181817</th>\n",
       "      <th>ENSG00000116885</th>\n",
       "      <th>ENSG00000116898</th>\n",
       "      <th>ENSG00000119535</th>\n",
       "      <th>ENSG00000142694</th>\n",
       "    </tr>\n",
       "  </thead>\n",
       "  <tbody>\n",
       "    <tr>\n",
       "      <th>0</th>\n",
       "      <td>Primary Tumor</td>\n",
       "      <td>Adrenal Gland</td>\n",
       "      <td>4.824</td>\n",
       "      <td>3.239</td>\n",
       "      <td>1.903</td>\n",
       "      <td>13.8583</td>\n",
       "      <td>14.5453</td>\n",
       "      <td>15.0736</td>\n",
       "      <td>15.2961</td>\n",
       "      <td>15.0906</td>\n",
       "      <td>...</td>\n",
       "      <td>4.7887</td>\n",
       "      <td>5.76</td>\n",
       "      <td>6.251</td>\n",
       "      <td>0.3685</td>\n",
       "      <td>4.8038</td>\n",
       "      <td>4.7955</td>\n",
       "      <td>3.4344</td>\n",
       "      <td>5.6562</td>\n",
       "      <td>0.099</td>\n",
       "      <td>5.8573</td>\n",
       "    </tr>\n",
       "    <tr>\n",
       "      <th>1</th>\n",
       "      <td>Primary Tumor</td>\n",
       "      <td>Adrenal Gland</td>\n",
       "      <td>4.790</td>\n",
       "      <td>4.056</td>\n",
       "      <td>1.151</td>\n",
       "      <td>12.9033</td>\n",
       "      <td>12.8996</td>\n",
       "      <td>14.2355</td>\n",
       "      <td>14.3135</td>\n",
       "      <td>14.241</td>\n",
       "      <td>...</td>\n",
       "      <td>0.7146</td>\n",
       "      <td>5.7618</td>\n",
       "      <td>5.4186</td>\n",
       "      <td>1.7489</td>\n",
       "      <td>3.7496</td>\n",
       "      <td>5.1161</td>\n",
       "      <td>1.5998</td>\n",
       "      <td>6.007</td>\n",
       "      <td>6.6291</td>\n",
       "      <td>5.8783</td>\n",
       "    </tr>\n",
       "    <tr>\n",
       "      <th>2</th>\n",
       "      <td>Primary Tumor</td>\n",
       "      <td>Adrenal Gland</td>\n",
       "      <td>4.764</td>\n",
       "      <td>4.570</td>\n",
       "      <td>-1.639</td>\n",
       "      <td>11.3521</td>\n",
       "      <td>11.5632</td>\n",
       "      <td>12.9722</td>\n",
       "      <td>13.4622</td>\n",
       "      <td>12.2127</td>\n",
       "      <td>...</td>\n",
       "      <td>-0.7108</td>\n",
       "      <td>5.7898</td>\n",
       "      <td>5.3618</td>\n",
       "      <td>-0.4521</td>\n",
       "      <td>5.2954</td>\n",
       "      <td>6.4777</td>\n",
       "      <td>2.4883</td>\n",
       "      <td>6.2679</td>\n",
       "      <td>3.4765</td>\n",
       "      <td>7.3056</td>\n",
       "    </tr>\n",
       "    <tr>\n",
       "      <th>3</th>\n",
       "      <td>Primary Tumor</td>\n",
       "      <td>Adrenal Gland</td>\n",
       "      <td>4.751</td>\n",
       "      <td>4.216</td>\n",
       "      <td>-2.727</td>\n",
       "      <td>11.6652</td>\n",
       "      <td>11.6844</td>\n",
       "      <td>13.3382</td>\n",
       "      <td>13.3893</td>\n",
       "      <td>11.279</td>\n",
       "      <td>...</td>\n",
       "      <td>-0.1665</td>\n",
       "      <td>5.813</td>\n",
       "      <td>5.9498</td>\n",
       "      <td>1.3397</td>\n",
       "      <td>4.0171</td>\n",
       "      <td>5.3646</td>\n",
       "      <td>3.2143</td>\n",
       "      <td>6.6442</td>\n",
       "      <td>-1.2142</td>\n",
       "      <td>5.3785</td>\n",
       "    </tr>\n",
       "    <tr>\n",
       "      <th>4</th>\n",
       "      <td>Primary Tumor</td>\n",
       "      <td>Adrenal Gland</td>\n",
       "      <td>4.600</td>\n",
       "      <td>3.060</td>\n",
       "      <td>2.783</td>\n",
       "      <td>14.3111</td>\n",
       "      <td>14.2191</td>\n",
       "      <td>15.5359</td>\n",
       "      <td>15.2714</td>\n",
       "      <td>15.5943</td>\n",
       "      <td>...</td>\n",
       "      <td>1.3051</td>\n",
       "      <td>4.3126</td>\n",
       "      <td>4.8866</td>\n",
       "      <td>-0.2845</td>\n",
       "      <td>3.7356</td>\n",
       "      <td>4.6491</td>\n",
       "      <td>2.8014</td>\n",
       "      <td>5.8488</td>\n",
       "      <td>1.8036</td>\n",
       "      <td>4.2639</td>\n",
       "    </tr>\n",
       "    <tr>\n",
       "      <th>...</th>\n",
       "      <td>...</td>\n",
       "      <td>...</td>\n",
       "      <td>...</td>\n",
       "      <td>...</td>\n",
       "      <td>...</td>\n",
       "      <td>...</td>\n",
       "      <td>...</td>\n",
       "      <td>...</td>\n",
       "      <td>...</td>\n",
       "      <td>...</td>\n",
       "      <td>...</td>\n",
       "      <td>...</td>\n",
       "      <td>...</td>\n",
       "      <td>...</td>\n",
       "      <td>...</td>\n",
       "      <td>...</td>\n",
       "      <td>...</td>\n",
       "      <td>...</td>\n",
       "      <td>...</td>\n",
       "      <td>...</td>\n",
       "      <td>...</td>\n",
       "    </tr>\n",
       "    <tr>\n",
       "      <th>9180</th>\n",
       "      <td>Primary Tumor</td>\n",
       "      <td>Eye</td>\n",
       "      <td>2.345</td>\n",
       "      <td>2.199</td>\n",
       "      <td>-9.966</td>\n",
       "      <td>14.4286</td>\n",
       "      <td>14.2979</td>\n",
       "      <td>15.2141</td>\n",
       "      <td>15.0388</td>\n",
       "      <td>14.7751</td>\n",
       "      <td>...</td>\n",
       "      <td>6.2943</td>\n",
       "      <td>4.2533</td>\n",
       "      <td>3.0515</td>\n",
       "      <td>2.8482</td>\n",
       "      <td>2.9356</td>\n",
       "      <td>4.8304</td>\n",
       "      <td>2.0004</td>\n",
       "      <td>6.0745</td>\n",
       "      <td>-0.4521</td>\n",
       "      <td>5.5299</td>\n",
       "    </tr>\n",
       "    <tr>\n",
       "      <th>9181</th>\n",
       "      <td>Primary Tumor</td>\n",
       "      <td>Eye</td>\n",
       "      <td>2.337</td>\n",
       "      <td>1.990</td>\n",
       "      <td>-1.283</td>\n",
       "      <td>13.7761</td>\n",
       "      <td>13.8831</td>\n",
       "      <td>14.414</td>\n",
       "      <td>14.6946</td>\n",
       "      <td>14.7479</td>\n",
       "      <td>...</td>\n",
       "      <td>9.1262</td>\n",
       "      <td>4.795</td>\n",
       "      <td>3.7006</td>\n",
       "      <td>3.9865</td>\n",
       "      <td>3.8033</td>\n",
       "      <td>4.7835</td>\n",
       "      <td>1.766</td>\n",
       "      <td>6.2024</td>\n",
       "      <td>-2.0529</td>\n",
       "      <td>5.4667</td>\n",
       "    </tr>\n",
       "    <tr>\n",
       "      <th>9182</th>\n",
       "      <td>Primary Tumor</td>\n",
       "      <td>Eye</td>\n",
       "      <td>2.189</td>\n",
       "      <td>1.379</td>\n",
       "      <td>-1.248</td>\n",
       "      <td>15.3308</td>\n",
       "      <td>16.0555</td>\n",
       "      <td>14.8138</td>\n",
       "      <td>16.013</td>\n",
       "      <td>16.2567</td>\n",
       "      <td>...</td>\n",
       "      <td>10.2</td>\n",
       "      <td>3.9992</td>\n",
       "      <td>3.2959</td>\n",
       "      <td>1.2394</td>\n",
       "      <td>2.7805</td>\n",
       "      <td>3.5911</td>\n",
       "      <td>1.0711</td>\n",
       "      <td>3.309</td>\n",
       "      <td>-1.7322</td>\n",
       "      <td>4.1563</td>\n",
       "    </tr>\n",
       "    <tr>\n",
       "      <th>9183</th>\n",
       "      <td>Primary Tumor</td>\n",
       "      <td>Eye</td>\n",
       "      <td>2.043</td>\n",
       "      <td>1.710</td>\n",
       "      <td>-9.966</td>\n",
       "      <td>13.4219</td>\n",
       "      <td>14.4282</td>\n",
       "      <td>14.403</td>\n",
       "      <td>14.9554</td>\n",
       "      <td>15.1558</td>\n",
       "      <td>...</td>\n",
       "      <td>3.6324</td>\n",
       "      <td>4.957</td>\n",
       "      <td>4.891</td>\n",
       "      <td>2.2663</td>\n",
       "      <td>3.1344</td>\n",
       "      <td>3.9194</td>\n",
       "      <td>1.5854</td>\n",
       "      <td>5.3442</td>\n",
       "      <td>-1.9379</td>\n",
       "      <td>4.892</td>\n",
       "    </tr>\n",
       "    <tr>\n",
       "      <th>9184</th>\n",
       "      <td>Primary Tumor</td>\n",
       "      <td>Eye</td>\n",
       "      <td>1.595</td>\n",
       "      <td>1.406</td>\n",
       "      <td>-3.816</td>\n",
       "      <td>12.9763</td>\n",
       "      <td>13.2685</td>\n",
       "      <td>13.6435</td>\n",
       "      <td>14.0272</td>\n",
       "      <td>14.0356</td>\n",
       "      <td>...</td>\n",
       "      <td>10.4175</td>\n",
       "      <td>4.9883</td>\n",
       "      <td>4.7651</td>\n",
       "      <td>2.7931</td>\n",
       "      <td>2.6114</td>\n",
       "      <td>4.2457</td>\n",
       "      <td>1.4494</td>\n",
       "      <td>5.969</td>\n",
       "      <td>-2.7274</td>\n",
       "      <td>5.6393</td>\n",
       "    </tr>\n",
       "  </tbody>\n",
       "</table>\n",
       "<p>9185 rows × 19541 columns</p>\n",
       "</div>"
      ],
      "text/plain": [
       "        Sample_Type   Primary_Site   ATG7  ATG7_1  ATG7_2 ENSG00000198888  \\\n",
       "0     Primary Tumor  Adrenal Gland  4.824   3.239   1.903         13.8583   \n",
       "1     Primary Tumor  Adrenal Gland  4.790   4.056   1.151         12.9033   \n",
       "2     Primary Tumor  Adrenal Gland  4.764   4.570  -1.639         11.3521   \n",
       "3     Primary Tumor  Adrenal Gland  4.751   4.216  -2.727         11.6652   \n",
       "4     Primary Tumor  Adrenal Gland  4.600   3.060   2.783         14.3111   \n",
       "...             ...            ...    ...     ...     ...             ...   \n",
       "9180  Primary Tumor            Eye  2.345   2.199  -9.966         14.4286   \n",
       "9181  Primary Tumor            Eye  2.337   1.990  -1.283         13.7761   \n",
       "9182  Primary Tumor            Eye  2.189   1.379  -1.248         15.3308   \n",
       "9183  Primary Tumor            Eye  2.043   1.710  -9.966         13.4219   \n",
       "9184  Primary Tumor            Eye  1.595   1.406  -3.816         12.9763   \n",
       "\n",
       "     ENSG00000198763 ENSG00000198804 ENSG00000198712 ENSG00000228253  ...  \\\n",
       "0            14.5453         15.0736         15.2961         15.0906  ...   \n",
       "1            12.8996         14.2355         14.3135          14.241  ...   \n",
       "2            11.5632         12.9722         13.4622         12.2127  ...   \n",
       "3            11.6844         13.3382         13.3893          11.279  ...   \n",
       "4            14.2191         15.5359         15.2714         15.5943  ...   \n",
       "...              ...             ...             ...             ...  ...   \n",
       "9180         14.2979         15.2141         15.0388         14.7751  ...   \n",
       "9181         13.8831          14.414         14.6946         14.7479  ...   \n",
       "9182         16.0555         14.8138          16.013         16.2567  ...   \n",
       "9183         14.4282          14.403         14.9554         15.1558  ...   \n",
       "9184         13.2685         13.6435         14.0272         14.0356  ...   \n",
       "\n",
       "     ENSG00000160678 ENSG00000160679 ENSG00000143553 ENSG00000214193  \\\n",
       "0             4.7887            5.76           6.251          0.3685   \n",
       "1             0.7146          5.7618          5.4186          1.7489   \n",
       "2            -0.7108          5.7898          5.3618         -0.4521   \n",
       "3            -0.1665           5.813          5.9498          1.3397   \n",
       "4             1.3051          4.3126          4.8866         -0.2845   \n",
       "...              ...             ...             ...             ...   \n",
       "9180          6.2943          4.2533          3.0515          2.8482   \n",
       "9181          9.1262           4.795          3.7006          3.9865   \n",
       "9182            10.2          3.9992          3.2959          1.2394   \n",
       "9183          3.6324           4.957           4.891          2.2663   \n",
       "9184         10.4175          4.9883          4.7651          2.7931   \n",
       "\n",
       "     ENSG00000196182 ENSG00000181817 ENSG00000116885 ENSG00000116898  \\\n",
       "0             4.8038          4.7955          3.4344          5.6562   \n",
       "1             3.7496          5.1161          1.5998           6.007   \n",
       "2             5.2954          6.4777          2.4883          6.2679   \n",
       "3             4.0171          5.3646          3.2143          6.6442   \n",
       "4             3.7356          4.6491          2.8014          5.8488   \n",
       "...              ...             ...             ...             ...   \n",
       "9180          2.9356          4.8304          2.0004          6.0745   \n",
       "9181          3.8033          4.7835           1.766          6.2024   \n",
       "9182          2.7805          3.5911          1.0711           3.309   \n",
       "9183          3.1344          3.9194          1.5854          5.3442   \n",
       "9184          2.6114          4.2457          1.4494           5.969   \n",
       "\n",
       "     ENSG00000119535 ENSG00000142694  \n",
       "0              0.099          5.8573  \n",
       "1             6.6291          5.8783  \n",
       "2             3.4765          7.3056  \n",
       "3            -1.2142          5.3785  \n",
       "4             1.8036          4.2639  \n",
       "...              ...             ...  \n",
       "9180         -0.4521          5.5299  \n",
       "9181         -2.0529          5.4667  \n",
       "9182         -1.7322          4.1563  \n",
       "9183         -1.9379           4.892  \n",
       "9184         -2.7274          5.6393  \n",
       "\n",
       "[9185 rows x 19541 columns]"
      ]
     },
     "execution_count": 25,
     "metadata": {},
     "output_type": "execute_result"
    }
   ],
   "source": [
    "df_primary_expr"
   ]
  },
  {
   "cell_type": "code",
   "execution_count": 26,
   "metadata": {
    "colab": {
     "base_uri": "https://localhost:8080/",
     "height": 572
    },
    "executionInfo": {
     "elapsed": 35,
     "status": "error",
     "timestamp": 1636492137479,
     "user": {
      "displayName": "a b",
      "photoUrl": "https://lh3.googleusercontent.com/a/default-user=s64",
      "userId": "14720607983357227806"
     },
     "user_tz": 0
    },
    "id": "hsgaqjKl3z5F",
    "outputId": "8dfdb4a7-df1a-47b8-9f4f-b97a3307798a"
   },
   "outputs": [
    {
     "name": "stdout",
     "output_type": "stream",
     "text": [
      "Normal Tissue\n",
      "  correlation between ATG7 and KPNA1 is: r_value = 0.52 for a p_value of 0.00e+00\n",
      "  correlation between ATG7_1 and KPNA1 is: r_value = 0.32 for a p_value of 2.82e-172\n",
      "  correlation between ATG7_2 and KPNA1 is: r_value = 0.44 for a p_value of 0.00e+00\n",
      "\n",
      "  correlation between ATG7 and MAPK1 is: r_value = 0.56 for a p_value of 0.00e+00\n",
      "  correlation between ATG7_1 and MAPK1 is: r_value = 0.35 for a p_value of 3.72e-211\n",
      "  correlation between ATG7_2 and MAPK1 is: r_value = 0.45 for a p_value of 0.00e+00\n",
      "\n",
      "  correlation between ATG7 and TNPO1 is: r_value = 0.53 for a p_value of 0.00e+00\n",
      "  correlation between ATG7_1 and TNPO1 is: r_value = 0.46 for a p_value of 0.00e+00\n",
      "  correlation between ATG7_2 and TNPO1 is: r_value = 0.25 for a p_value of 2.74e-107\n",
      "\n",
      "  correlation between ATG7 and MTDH is: r_value = 0.50 for a p_value of 0.00e+00\n",
      "  correlation between ATG7_1 and MTDH is: r_value = 0.40 for a p_value of 2.52e-277\n",
      "  correlation between ATG7_2 and MTDH is: r_value = 0.30 for a p_value of 4.56e-150\n",
      "\n",
      "  correlation between ATG7 and HK2 is: r_value = 0.40 for a p_value of 6.07e-283\n",
      "  correlation between ATG7_1 and HK2 is: r_value = 0.14 for a p_value of 3.25e-33\n",
      "  correlation between ATG7_2 and HK2 is: r_value = 0.47 for a p_value of 0.00e+00\n",
      "\n",
      "  correlation between ATG7 and YAP1 is: r_value = 0.51 for a p_value of 0.00e+00\n",
      "  correlation between ATG7_1 and YAP1 is: r_value = 0.48 for a p_value of 0.00e+00\n",
      "  correlation between ATG7_2 and YAP1 is: r_value = 0.20 for a p_value of 2.25e-70\n",
      "\n",
      "  correlation between ATG7 and AJUBA is: r_value = 0.53 for a p_value of 0.00e+00\n",
      "  correlation between ATG7_1 and AJUBA is: r_value = 0.53 for a p_value of 0.00e+00\n",
      "  correlation between ATG7_2 and AJUBA is: r_value = 0.16 for a p_value of 2.26e-46\n",
      "\n",
      "  correlation between ATG7 and YBX1 is: r_value = 0.35 for a p_value of 2.59e-211\n",
      "  correlation between ATG7_1 and YBX1 is: r_value = 0.26 for a p_value of 2.46e-119\n",
      "  correlation between ATG7_2 and YBX1 is: r_value = 0.26 for a p_value of 6.19e-112\n",
      "\n",
      "  correlation between ATG7 and TGFB1 is: r_value = 0.56 for a p_value of 0.00e+00\n",
      "  correlation between ATG7_1 and TGFB1 is: r_value = 0.41 for a p_value of 3.84e-303\n",
      "  correlation between ATG7_2 and TGFB1 is: r_value = 0.30 for a p_value of 6.01e-152\n",
      "\n",
      "  correlation between ATG7 and ATG7_1 is: r_value = 0.79 for a p_value of 0.00e+00\n",
      "  correlation between ATG7_1 and ATG7_1 is: r_value = 1.00 for a p_value of 0.00e+00\n",
      "  correlation between ATG7_2 and ATG7_1 is: r_value = 0.02 for a p_value of 4.14e-02\n",
      "\n",
      "  correlation between ATG7 and ATG7_2 is: r_value = 0.51 for a p_value of 0.00e+00\n",
      "  correlation between ATG7_1 and ATG7_2 is: r_value = 0.02 for a p_value of 4.14e-02\n",
      "  correlation between ATG7_2 and ATG7_2 is: r_value = 1.00 for a p_value of 0.00e+00\n",
      "\n",
      "Primary Tumors\n",
      "  correlation between ATG7 and KPNA1 is: r_value = 0.47 for a p_value of 0.00e+00\n",
      "  correlation between ATG7_1 and KPNA1 is: r_value = -0.19 for a p_value of 5.47e-75\n",
      "  correlation between ATG7_2 and KPNA1 is: r_value = 0.68 for a p_value of 0.00e+00\n",
      "\n",
      "  correlation between ATG7 and MAPK1 is: r_value = 0.47 for a p_value of 0.00e+00\n",
      "  correlation between ATG7_1 and MAPK1 is: r_value = -0.13 for a p_value of 3.73e-38\n",
      "  correlation between ATG7_2 and MAPK1 is: r_value = 0.63 for a p_value of 0.00e+00\n",
      "\n",
      "  correlation between ATG7 and TNPO1 is: r_value = 0.48 for a p_value of 0.00e+00\n",
      "  correlation between ATG7_1 and TNPO1 is: r_value = -0.12 for a p_value of 1.95e-28\n",
      "  correlation between ATG7_2 and TNPO1 is: r_value = 0.63 for a p_value of 0.00e+00\n",
      "\n",
      "  correlation between ATG7 and MTDH is: r_value = 0.38 for a p_value of 0.00e+00\n",
      "  correlation between ATG7_1 and MTDH is: r_value = -0.27 for a p_value of 1.73e-155\n",
      "  correlation between ATG7_2 and MTDH is: r_value = 0.63 for a p_value of 0.00e+00\n",
      "\n",
      "  correlation between ATG7 and HK2 is: r_value = 0.25 for a p_value of 1.55e-127\n",
      "  correlation between ATG7_1 and HK2 is: r_value = -0.12 for a p_value of 2.49e-30\n",
      "  correlation between ATG7_2 and HK2 is: r_value = 0.43 for a p_value of 0.00e+00\n",
      "\n",
      "  correlation between ATG7 and YAP1 is: r_value = 0.30 for a p_value of 4.13e-193\n",
      "  correlation between ATG7_1 and YAP1 is: r_value = -0.18 for a p_value of 1.42e-68\n",
      "  correlation between ATG7_2 and YAP1 is: r_value = 0.50 for a p_value of 0.00e+00\n",
      "\n",
      "  correlation between ATG7 and AJUBA is: r_value = 0.07 for a p_value of 2.32e-10\n",
      "  correlation between ATG7_1 and AJUBA is: r_value = -0.18 for a p_value of 4.22e-70\n",
      "  correlation between ATG7_2 and AJUBA is: r_value = 0.25 for a p_value of 2.39e-130\n",
      "\n",
      "  correlation between ATG7 and YBX1 is: r_value = 0.21 for a p_value of 1.43e-90\n",
      "  correlation between ATG7_1 and YBX1 is: r_value = -0.03 for a p_value of 1.15e-02\n",
      "  correlation between ATG7_2 and YBX1 is: r_value = 0.23 for a p_value of 8.08e-112\n",
      "\n",
      "  correlation between ATG7 and TGFB1 is: r_value = 0.25 for a p_value of 3.08e-133\n",
      "  correlation between ATG7_1 and TGFB1 is: r_value = 0.14 for a p_value of 1.26e-40\n",
      "  correlation between ATG7_2 and TGFB1 is: r_value = 0.19 for a p_value of 3.62e-76\n",
      "\n",
      "  correlation between ATG7 and ATG7_1 is: r_value = 0.50 for a p_value of 0.00e+00\n",
      "  correlation between ATG7_1 and ATG7_1 is: r_value = 1.00 for a p_value of 0.00e+00\n",
      "  correlation between ATG7_2 and ATG7_1 is: r_value = -0.19 for a p_value of 2.36e-74\n",
      "\n",
      "  correlation between ATG7 and ATG7_2 is: r_value = 0.65 for a p_value of 0.00e+00\n",
      "  correlation between ATG7_1 and ATG7_2 is: r_value = -0.19 for a p_value of 2.36e-74\n",
      "  correlation between ATG7_2 and ATG7_2 is: r_value = 1.00 for a p_value of 0.00e+00\n",
      "\n"
     ]
    }
   ],
   "source": [
    "# Spearman Correlation, main genes \n",
    "\n",
    "all_tissue_used = [[df_normal_expr,'Normal Tissue'], [df_primary_expr,'Primary Tumors']]\n",
    "\n",
    "HK2 = 'ENSG00000159399'\n",
    "YAP1 = 'ENSG00000137693'\n",
    "AJUBA = 'ENSG00000129474'\n",
    "YBX1 = 'ENSG00000065978'\n",
    "TGFB1 = 'ENSG00000105329'\n",
    "ATG7_1 = 'ATG7_1'\n",
    "ATG7_2 = 'ATG7_2'\n",
    "MTDH = 'ENSG00000147649'\n",
    "MAPK1 = 'ENSG00000100030'\n",
    "KPNA1 = 'ENSG00000114030'\n",
    "TNPO1 = 'ENSG00000083312'\n",
    "\n",
    "for tissue in all_tissue_used:\n",
    "  genes_x = [[KPNA1,'KPNA1'], [MAPK1, 'MAPK1'], [TNPO1,'TNPO1'], [MTDH,'MTDH'], \n",
    "             [HK2, \"HK2\"], [YAP1, 'YAP1'], [AJUBA,'AJUBA'], [YBX1,'YBX1'], \n",
    "             [TGFB1,'TGFB1'], [ATG7_1,'ATG7_1'], [ATG7_2,'ATG7_2']]\n",
    "\n",
    "  print(tissue[1])\n",
    "\n",
    "  for gene in genes_x:\n",
    "    x = tissue[0][gene[0]].to_list()\n",
    "    y = tissue[0]['ATG7'].to_list()\n",
    "    y1 = tissue[0]['ATG7_1'].to_list()\n",
    "    y2 = tissue[0]['ATG7_2'].to_list()  \n",
    "  \n",
    "    r_value, p_value = scipy.stats.spearmanr(x, y)\n",
    "    print('  correlation between ATG7 and', gene[1],  'is:', 'r_value = {:.2f} for a p_value of {:.2e}'.format(r_value, p_value))\n",
    "    r_value, p_value = scipy.stats.spearmanr(x, y1)\n",
    "    print('  correlation between ATG7_1 and', gene[1],  'is:', 'r_value = {:.2f} for a p_value of {:.2e}'.format(r_value, p_value))\n",
    "    r_value, p_value = scipy.stats.spearmanr(x, y2)\n",
    "    print('  correlation between ATG7_2 and', gene[1],  'is:', 'r_value = {:.2f} for a p_value of {:.2e}'.format(r_value, p_value))\n",
    "    print()"
   ]
  },
  {
   "cell_type": "code",
   "execution_count": 27,
   "metadata": {
    "colab": {
     "base_uri": "https://localhost:8080/"
    },
    "executionInfo": {
     "elapsed": 3562,
     "status": "ok",
     "timestamp": 1636492146971,
     "user": {
      "displayName": "a b",
      "photoUrl": "https://lh3.googleusercontent.com/a/default-user=s64",
      "userId": "14720607983357227806"
     },
     "user_tz": 0
    },
    "id": "DSfvcpoN4r9O",
    "outputId": "1d84fe0d-ec3f-470b-d60b-a672b8b38468"
   },
   "outputs": [
    {
     "name": "stdout",
     "output_type": "stream",
     "text": [
      "Normal Tissues (7429, 19541)\n"
     ]
    },
    {
     "name": "stderr",
     "output_type": "stream",
     "text": [
      "/home/adrian/anaconda3/lib/python3.7/site-packages/ipykernel_launcher.py:12: FutureWarning: Dropping of nuisance columns in DataFrame reductions (with 'numeric_only=None') is deprecated; in a future version this will raise TypeError.  Select only valid columns before calling the reduction.\n",
      "  if sys.path[0] == '':\n"
     ]
    },
    {
     "ename": "ValueError",
     "evalue": "cannot reindex from a duplicate axis",
     "output_type": "error",
     "traceback": [
      "\u001b[0;31m---------------------------------------------------------------------------\u001b[0m",
      "\u001b[0;31mValueError\u001b[0m                                Traceback (most recent call last)",
      "\u001b[0;32m<ipython-input-27-d629e44d8265>\u001b[0m in \u001b[0;36m<module>\u001b[0;34m\u001b[0m\n\u001b[1;32m     10\u001b[0m \u001b[0;34m\u001b[0m\u001b[0m\n\u001b[1;32m     11\u001b[0m   \u001b[0;31m#create a new row with max() for each gene and transpose\u001b[0m\u001b[0;34m\u001b[0m\u001b[0;34m\u001b[0m\u001b[0;34m\u001b[0m\u001b[0m\n\u001b[0;32m---> 12\u001b[0;31m   \u001b[0mtissue\u001b[0m\u001b[0;34m[\u001b[0m\u001b[0;36m0\u001b[0m\u001b[0;34m]\u001b[0m\u001b[0;34m.\u001b[0m\u001b[0mloc\u001b[0m\u001b[0;34m[\u001b[0m\u001b[0;34m'max()'\u001b[0m\u001b[0;34m]\u001b[0m \u001b[0;34m=\u001b[0m \u001b[0mtissue\u001b[0m\u001b[0;34m[\u001b[0m\u001b[0;36m0\u001b[0m\u001b[0;34m]\u001b[0m\u001b[0;34m.\u001b[0m\u001b[0mmax\u001b[0m\u001b[0;34m(\u001b[0m\u001b[0;34m)\u001b[0m\u001b[0;34m\u001b[0m\u001b[0;34m\u001b[0m\u001b[0m\n\u001b[0m\u001b[1;32m     13\u001b[0m   \u001b[0mtissue\u001b[0m\u001b[0;34m[\u001b[0m\u001b[0;36m0\u001b[0m\u001b[0;34m]\u001b[0m \u001b[0;34m=\u001b[0m \u001b[0mtissue\u001b[0m\u001b[0;34m[\u001b[0m\u001b[0;36m0\u001b[0m\u001b[0;34m]\u001b[0m\u001b[0;34m.\u001b[0m\u001b[0mT\u001b[0m\u001b[0;34m\u001b[0m\u001b[0;34m\u001b[0m\u001b[0m\n\u001b[1;32m     14\u001b[0m \u001b[0;34m\u001b[0m\u001b[0m\n",
      "\u001b[0;32m~/anaconda3/lib/python3.7/site-packages/pandas/core/indexing.py\u001b[0m in \u001b[0;36m__setitem__\u001b[0;34m(self, key, value)\u001b[0m\n\u001b[1;32m    721\u001b[0m \u001b[0;34m\u001b[0m\u001b[0m\n\u001b[1;32m    722\u001b[0m         \u001b[0miloc\u001b[0m \u001b[0;34m=\u001b[0m \u001b[0mself\u001b[0m \u001b[0;32mif\u001b[0m \u001b[0mself\u001b[0m\u001b[0;34m.\u001b[0m\u001b[0mname\u001b[0m \u001b[0;34m==\u001b[0m \u001b[0;34m\"iloc\"\u001b[0m \u001b[0;32melse\u001b[0m \u001b[0mself\u001b[0m\u001b[0;34m.\u001b[0m\u001b[0mobj\u001b[0m\u001b[0;34m.\u001b[0m\u001b[0miloc\u001b[0m\u001b[0;34m\u001b[0m\u001b[0;34m\u001b[0m\u001b[0m\n\u001b[0;32m--> 723\u001b[0;31m         \u001b[0miloc\u001b[0m\u001b[0;34m.\u001b[0m\u001b[0m_setitem_with_indexer\u001b[0m\u001b[0;34m(\u001b[0m\u001b[0mindexer\u001b[0m\u001b[0;34m,\u001b[0m \u001b[0mvalue\u001b[0m\u001b[0;34m,\u001b[0m \u001b[0mself\u001b[0m\u001b[0;34m.\u001b[0m\u001b[0mname\u001b[0m\u001b[0;34m)\u001b[0m\u001b[0;34m\u001b[0m\u001b[0;34m\u001b[0m\u001b[0m\n\u001b[0m\u001b[1;32m    724\u001b[0m \u001b[0;34m\u001b[0m\u001b[0m\n\u001b[1;32m    725\u001b[0m     \u001b[0;32mdef\u001b[0m \u001b[0m_validate_key\u001b[0m\u001b[0;34m(\u001b[0m\u001b[0mself\u001b[0m\u001b[0;34m,\u001b[0m \u001b[0mkey\u001b[0m\u001b[0;34m,\u001b[0m \u001b[0maxis\u001b[0m\u001b[0;34m:\u001b[0m \u001b[0mint\u001b[0m\u001b[0;34m)\u001b[0m\u001b[0;34m:\u001b[0m\u001b[0;34m\u001b[0m\u001b[0;34m\u001b[0m\u001b[0m\n",
      "\u001b[0;32m~/anaconda3/lib/python3.7/site-packages/pandas/core/indexing.py\u001b[0m in \u001b[0;36m_setitem_with_indexer\u001b[0;34m(self, indexer, value, name)\u001b[0m\n\u001b[1;32m   1722\u001b[0m \u001b[0;34m\u001b[0m\u001b[0m\n\u001b[1;32m   1723\u001b[0m             \u001b[0;32mif\u001b[0m \u001b[0mmissing\u001b[0m\u001b[0;34m:\u001b[0m\u001b[0;34m\u001b[0m\u001b[0;34m\u001b[0m\u001b[0m\n\u001b[0;32m-> 1724\u001b[0;31m                 \u001b[0mself\u001b[0m\u001b[0;34m.\u001b[0m\u001b[0m_setitem_with_indexer_missing\u001b[0m\u001b[0;34m(\u001b[0m\u001b[0mindexer\u001b[0m\u001b[0;34m,\u001b[0m \u001b[0mvalue\u001b[0m\u001b[0;34m)\u001b[0m\u001b[0;34m\u001b[0m\u001b[0;34m\u001b[0m\u001b[0m\n\u001b[0m\u001b[1;32m   1725\u001b[0m                 \u001b[0;32mreturn\u001b[0m\u001b[0;34m\u001b[0m\u001b[0;34m\u001b[0m\u001b[0m\n\u001b[1;32m   1726\u001b[0m \u001b[0;34m\u001b[0m\u001b[0m\n",
      "\u001b[0;32m~/anaconda3/lib/python3.7/site-packages/pandas/core/indexing.py\u001b[0m in \u001b[0;36m_setitem_with_indexer_missing\u001b[0;34m(self, indexer, value)\u001b[0m\n\u001b[1;32m   2014\u001b[0m             \u001b[0;32mif\u001b[0m \u001b[0misinstance\u001b[0m\u001b[0;34m(\u001b[0m\u001b[0mvalue\u001b[0m\u001b[0;34m,\u001b[0m \u001b[0mABCSeries\u001b[0m\u001b[0;34m)\u001b[0m\u001b[0;34m:\u001b[0m\u001b[0;34m\u001b[0m\u001b[0;34m\u001b[0m\u001b[0m\n\u001b[1;32m   2015\u001b[0m                 \u001b[0;31m# append a Series\u001b[0m\u001b[0;34m\u001b[0m\u001b[0;34m\u001b[0m\u001b[0;34m\u001b[0m\u001b[0m\n\u001b[0;32m-> 2016\u001b[0;31m                 \u001b[0mvalue\u001b[0m \u001b[0;34m=\u001b[0m \u001b[0mvalue\u001b[0m\u001b[0;34m.\u001b[0m\u001b[0mreindex\u001b[0m\u001b[0;34m(\u001b[0m\u001b[0mindex\u001b[0m\u001b[0;34m=\u001b[0m\u001b[0mself\u001b[0m\u001b[0;34m.\u001b[0m\u001b[0mobj\u001b[0m\u001b[0;34m.\u001b[0m\u001b[0mcolumns\u001b[0m\u001b[0;34m,\u001b[0m \u001b[0mcopy\u001b[0m\u001b[0;34m=\u001b[0m\u001b[0;32mTrue\u001b[0m\u001b[0;34m)\u001b[0m\u001b[0;34m\u001b[0m\u001b[0;34m\u001b[0m\u001b[0m\n\u001b[0m\u001b[1;32m   2017\u001b[0m                 \u001b[0mvalue\u001b[0m\u001b[0;34m.\u001b[0m\u001b[0mname\u001b[0m \u001b[0;34m=\u001b[0m \u001b[0mindexer\u001b[0m\u001b[0;34m\u001b[0m\u001b[0;34m\u001b[0m\u001b[0m\n\u001b[1;32m   2018\u001b[0m             \u001b[0;32melif\u001b[0m \u001b[0misinstance\u001b[0m\u001b[0;34m(\u001b[0m\u001b[0mvalue\u001b[0m\u001b[0;34m,\u001b[0m \u001b[0mdict\u001b[0m\u001b[0;34m)\u001b[0m\u001b[0;34m:\u001b[0m\u001b[0;34m\u001b[0m\u001b[0;34m\u001b[0m\u001b[0m\n",
      "\u001b[0;32m~/anaconda3/lib/python3.7/site-packages/pandas/core/series.py\u001b[0m in \u001b[0;36mreindex\u001b[0;34m(self, index, **kwargs)\u001b[0m\n\u001b[1;32m   4578\u001b[0m     )\n\u001b[1;32m   4579\u001b[0m     \u001b[0;32mdef\u001b[0m \u001b[0mreindex\u001b[0m\u001b[0;34m(\u001b[0m\u001b[0mself\u001b[0m\u001b[0;34m,\u001b[0m \u001b[0mindex\u001b[0m\u001b[0;34m=\u001b[0m\u001b[0;32mNone\u001b[0m\u001b[0;34m,\u001b[0m \u001b[0;34m**\u001b[0m\u001b[0mkwargs\u001b[0m\u001b[0;34m)\u001b[0m\u001b[0;34m:\u001b[0m\u001b[0;34m\u001b[0m\u001b[0;34m\u001b[0m\u001b[0m\n\u001b[0;32m-> 4580\u001b[0;31m         \u001b[0;32mreturn\u001b[0m \u001b[0msuper\u001b[0m\u001b[0;34m(\u001b[0m\u001b[0;34m)\u001b[0m\u001b[0;34m.\u001b[0m\u001b[0mreindex\u001b[0m\u001b[0;34m(\u001b[0m\u001b[0mindex\u001b[0m\u001b[0;34m=\u001b[0m\u001b[0mindex\u001b[0m\u001b[0;34m,\u001b[0m \u001b[0;34m**\u001b[0m\u001b[0mkwargs\u001b[0m\u001b[0;34m)\u001b[0m\u001b[0;34m\u001b[0m\u001b[0;34m\u001b[0m\u001b[0m\n\u001b[0m\u001b[1;32m   4581\u001b[0m \u001b[0;34m\u001b[0m\u001b[0m\n\u001b[1;32m   4582\u001b[0m     \u001b[0;34m@\u001b[0m\u001b[0mdeprecate_nonkeyword_arguments\u001b[0m\u001b[0;34m(\u001b[0m\u001b[0mversion\u001b[0m\u001b[0;34m=\u001b[0m\u001b[0;32mNone\u001b[0m\u001b[0;34m,\u001b[0m \u001b[0mallowed_args\u001b[0m\u001b[0;34m=\u001b[0m\u001b[0;34m[\u001b[0m\u001b[0;34m\"self\"\u001b[0m\u001b[0;34m,\u001b[0m \u001b[0;34m\"labels\"\u001b[0m\u001b[0;34m]\u001b[0m\u001b[0;34m)\u001b[0m\u001b[0;34m\u001b[0m\u001b[0;34m\u001b[0m\u001b[0m\n",
      "\u001b[0;32m~/anaconda3/lib/python3.7/site-packages/pandas/core/generic.py\u001b[0m in \u001b[0;36mreindex\u001b[0;34m(self, *args, **kwargs)\u001b[0m\n\u001b[1;32m   4817\u001b[0m         \u001b[0;31m# perform the reindex on the axes\u001b[0m\u001b[0;34m\u001b[0m\u001b[0;34m\u001b[0m\u001b[0;34m\u001b[0m\u001b[0m\n\u001b[1;32m   4818\u001b[0m         return self._reindex_axes(\n\u001b[0;32m-> 4819\u001b[0;31m             \u001b[0maxes\u001b[0m\u001b[0;34m,\u001b[0m \u001b[0mlevel\u001b[0m\u001b[0;34m,\u001b[0m \u001b[0mlimit\u001b[0m\u001b[0;34m,\u001b[0m \u001b[0mtolerance\u001b[0m\u001b[0;34m,\u001b[0m \u001b[0mmethod\u001b[0m\u001b[0;34m,\u001b[0m \u001b[0mfill_value\u001b[0m\u001b[0;34m,\u001b[0m \u001b[0mcopy\u001b[0m\u001b[0;34m\u001b[0m\u001b[0;34m\u001b[0m\u001b[0m\n\u001b[0m\u001b[1;32m   4820\u001b[0m         ).__finalize__(self, method=\"reindex\")\n\u001b[1;32m   4821\u001b[0m \u001b[0;34m\u001b[0m\u001b[0m\n",
      "\u001b[0;32m~/anaconda3/lib/python3.7/site-packages/pandas/core/generic.py\u001b[0m in \u001b[0;36m_reindex_axes\u001b[0;34m(self, axes, level, limit, tolerance, method, fill_value, copy)\u001b[0m\n\u001b[1;32m   4841\u001b[0m                 \u001b[0mfill_value\u001b[0m\u001b[0;34m=\u001b[0m\u001b[0mfill_value\u001b[0m\u001b[0;34m,\u001b[0m\u001b[0;34m\u001b[0m\u001b[0;34m\u001b[0m\u001b[0m\n\u001b[1;32m   4842\u001b[0m                 \u001b[0mcopy\u001b[0m\u001b[0;34m=\u001b[0m\u001b[0mcopy\u001b[0m\u001b[0;34m,\u001b[0m\u001b[0;34m\u001b[0m\u001b[0;34m\u001b[0m\u001b[0m\n\u001b[0;32m-> 4843\u001b[0;31m                 \u001b[0mallow_dups\u001b[0m\u001b[0;34m=\u001b[0m\u001b[0;32mFalse\u001b[0m\u001b[0;34m,\u001b[0m\u001b[0;34m\u001b[0m\u001b[0;34m\u001b[0m\u001b[0m\n\u001b[0m\u001b[1;32m   4844\u001b[0m             )\n\u001b[1;32m   4845\u001b[0m \u001b[0;34m\u001b[0m\u001b[0m\n",
      "\u001b[0;32m~/anaconda3/lib/python3.7/site-packages/pandas/core/generic.py\u001b[0m in \u001b[0;36m_reindex_with_indexers\u001b[0;34m(self, reindexers, fill_value, copy, allow_dups)\u001b[0m\n\u001b[1;32m   4887\u001b[0m                 \u001b[0mfill_value\u001b[0m\u001b[0;34m=\u001b[0m\u001b[0mfill_value\u001b[0m\u001b[0;34m,\u001b[0m\u001b[0;34m\u001b[0m\u001b[0;34m\u001b[0m\u001b[0m\n\u001b[1;32m   4888\u001b[0m                 \u001b[0mallow_dups\u001b[0m\u001b[0;34m=\u001b[0m\u001b[0mallow_dups\u001b[0m\u001b[0;34m,\u001b[0m\u001b[0;34m\u001b[0m\u001b[0;34m\u001b[0m\u001b[0m\n\u001b[0;32m-> 4889\u001b[0;31m                 \u001b[0mcopy\u001b[0m\u001b[0;34m=\u001b[0m\u001b[0mcopy\u001b[0m\u001b[0;34m,\u001b[0m\u001b[0;34m\u001b[0m\u001b[0;34m\u001b[0m\u001b[0m\n\u001b[0m\u001b[1;32m   4890\u001b[0m             )\n\u001b[1;32m   4891\u001b[0m             \u001b[0;31m# If we've made a copy once, no need to make another one\u001b[0m\u001b[0;34m\u001b[0m\u001b[0;34m\u001b[0m\u001b[0;34m\u001b[0m\u001b[0m\n",
      "\u001b[0;32m~/anaconda3/lib/python3.7/site-packages/pandas/core/internals/managers.py\u001b[0m in \u001b[0;36mreindex_indexer\u001b[0;34m(self, new_axis, indexer, axis, fill_value, allow_dups, copy, consolidate, only_slice)\u001b[0m\n\u001b[1;32m    668\u001b[0m         \u001b[0;31m# some axes don't allow reindexing with dups\u001b[0m\u001b[0;34m\u001b[0m\u001b[0;34m\u001b[0m\u001b[0;34m\u001b[0m\u001b[0m\n\u001b[1;32m    669\u001b[0m         \u001b[0;32mif\u001b[0m \u001b[0;32mnot\u001b[0m \u001b[0mallow_dups\u001b[0m\u001b[0;34m:\u001b[0m\u001b[0;34m\u001b[0m\u001b[0;34m\u001b[0m\u001b[0m\n\u001b[0;32m--> 670\u001b[0;31m             \u001b[0mself\u001b[0m\u001b[0;34m.\u001b[0m\u001b[0maxes\u001b[0m\u001b[0;34m[\u001b[0m\u001b[0maxis\u001b[0m\u001b[0;34m]\u001b[0m\u001b[0;34m.\u001b[0m\u001b[0m_validate_can_reindex\u001b[0m\u001b[0;34m(\u001b[0m\u001b[0mindexer\u001b[0m\u001b[0;34m)\u001b[0m\u001b[0;34m\u001b[0m\u001b[0;34m\u001b[0m\u001b[0m\n\u001b[0m\u001b[1;32m    671\u001b[0m \u001b[0;34m\u001b[0m\u001b[0m\n\u001b[1;32m    672\u001b[0m         \u001b[0;32mif\u001b[0m \u001b[0maxis\u001b[0m \u001b[0;34m>=\u001b[0m \u001b[0mself\u001b[0m\u001b[0;34m.\u001b[0m\u001b[0mndim\u001b[0m\u001b[0;34m:\u001b[0m\u001b[0;34m\u001b[0m\u001b[0;34m\u001b[0m\u001b[0m\n",
      "\u001b[0;32m~/anaconda3/lib/python3.7/site-packages/pandas/core/indexes/base.py\u001b[0m in \u001b[0;36m_validate_can_reindex\u001b[0;34m(self, indexer)\u001b[0m\n\u001b[1;32m   3783\u001b[0m         \u001b[0;31m# trying to reindex on an axis with duplicates\u001b[0m\u001b[0;34m\u001b[0m\u001b[0;34m\u001b[0m\u001b[0;34m\u001b[0m\u001b[0m\n\u001b[1;32m   3784\u001b[0m         \u001b[0;32mif\u001b[0m \u001b[0;32mnot\u001b[0m \u001b[0mself\u001b[0m\u001b[0;34m.\u001b[0m\u001b[0m_index_as_unique\u001b[0m \u001b[0;32mand\u001b[0m \u001b[0mlen\u001b[0m\u001b[0;34m(\u001b[0m\u001b[0mindexer\u001b[0m\u001b[0;34m)\u001b[0m\u001b[0;34m:\u001b[0m\u001b[0;34m\u001b[0m\u001b[0;34m\u001b[0m\u001b[0m\n\u001b[0;32m-> 3785\u001b[0;31m             \u001b[0;32mraise\u001b[0m \u001b[0mValueError\u001b[0m\u001b[0;34m(\u001b[0m\u001b[0;34m\"cannot reindex from a duplicate axis\"\u001b[0m\u001b[0;34m)\u001b[0m\u001b[0;34m\u001b[0m\u001b[0;34m\u001b[0m\u001b[0m\n\u001b[0m\u001b[1;32m   3786\u001b[0m \u001b[0;34m\u001b[0m\u001b[0m\n\u001b[1;32m   3787\u001b[0m     def reindex(\n",
      "\u001b[0;31mValueError\u001b[0m: cannot reindex from a duplicate axis"
     ]
    }
   ],
   "source": [
    "# Spearman Correlation, all genes\n",
    "all_tissue_used = [[df_normal_expr,'Normal Tissues'], [df_primary_expr,'Primary Tumors']]\n",
    "\n",
    "isoforms = ['ATG7_1', 'ATG7_2']\n",
    "\n",
    "all_positiv_corr_spearman = []\n",
    "\n",
    "for tissue in all_tissue_used:\n",
    "  print(tissue[1], tissue[0].shape)\n",
    "\n",
    "  #create a new row with max() for each gene and transpose\n",
    "  tissue[0].loc['max()'] = tissue[0].max()\n",
    "  tissue[0] = tissue[0].T\n",
    "\n",
    "  #select all row where max() > 2.3 (= 5 tpm)\n",
    "  nb_before = tissue[0]['max()'].count()\n",
    "  tissue[0] = tissue[0].drop(tissue[0].index[0:2])\n",
    "  tissue[0] = tissue[0][tissue[0]['max()'] > 2.3]\n",
    "  nb_after = tissue[0]['max()'].count()\n",
    "  print(\"number of genes removed:\", nb_before-nb_after)\n",
    "  print('the minimum of TPM is', tissue[0]['max()'].min())\n",
    "  \n",
    "  #delete the column max() and tranpose back\n",
    "  tissue[0] =  tissue[0].drop('max()', axis = 1) \n",
    "  tissue[0] = tissue[0].T\n",
    "  print('nombre genes after removing < 4tpm', tissue[0].shape)\n",
    "\n",
    "  for isoform in isoforms:\n",
    "\n",
    "    genepos = []\n",
    "    geneneg = []\n",
    "    rvaluepos = []\n",
    "    rvalueneg = []\n",
    "    pvaluepos = []\n",
    "    pvalueneg = []\n",
    "\n",
    "    print(isoform)\n",
    "    x = tissue[0][isoform].to_list()\n",
    "    genes = tissue[0].columns[3:]\n",
    "\n",
    "    for gene in genes:\n",
    "      y = tissue[0][gene].to_list()\n",
    "      r_value, p_value = scipy.stats.spearmanr(x, y)\n",
    "\n",
    "      if r_value > 0.65:\n",
    "        genepos.append(gene)\n",
    "        rvaluepos.append(r_value)\n",
    "        pvaluepos.append(p_value)\n",
    "        \n",
    "      elif r_value < -0.65:\n",
    "        geneneg.append(gene)\n",
    "        rvalueneg.append(r_value)\n",
    "        pvalueneg.append(p_value)\n",
    "\n",
    "    #create a dictionnary\n",
    "    d = dict(ensembl_gene_id= genepos, r_value=rvaluepos,  p_value=pvaluepos)\n",
    "    d2 = dict(Gene= geneneg, r_value=rvalueneg,  p_value=pvalueneg)\n",
    "\n",
    "    #Convert to dataframe\n",
    "    positiv_corr = 'pos_corr_'+tissue[1]\n",
    "    negativ_corr = 'neg_corr_'+tissue[1]\n",
    "\n",
    "    df_positiv_corr = pandas.DataFrame.from_dict(d, orient='index')\n",
    "    df_negativ_corr = pandas.DataFrame.from_dict(data=d2, orient='index')\n",
    "\n",
    "    #Transpose to have a better table\n",
    "    df_positiv_corr = df_positiv_corr.transpose()\n",
    "    df_negativ_corr = df_negativ_corr.transpose()\n",
    "\n",
    "    #name\n",
    "    positiv_corr = 'pos_spearman_corr_'+tissue[1]+'_'+isoform\n",
    "    negativ_corr = 'neg_spearman_corr_'+tissue[1]+'_'+isoform\n",
    "\n",
    "    print(positiv_corr, df_positiv_corr.shape)\n",
    "    print(negativ_corr, df_negativ_corr.shape)\n",
    "\n",
    "    #scending orde, save to excel\n",
    "    df_positiv_corr['info'] = tissue[1]+'_'+isoform\n",
    "    df_positiv_corr = protein_coding_list.merge(df_positiv_corr)\n",
    "    df_positiv_corr = df_positiv_corr.drop(['entrezgene_id', 'transcript_biotype'], axis = 1)\n",
    "\n",
    "    df_positiv_corr = df_positiv_corr.sort_values(['r_value'], ascending = False)\n",
    "\n",
    "    df_positiv_corr.to_excel(positiv_corr+'.xlsx', index=False)\n",
    "    df_negativ_corr.to_excel(negativ_corr+'.xlsx', index=False)\n",
    "\n",
    "    all_positiv_corr_spearman.append(df_positiv_corr)\n",
    "  print()"
   ]
  },
  {
   "cell_type": "code",
   "execution_count": 28,
   "metadata": {},
   "outputs": [
    {
     "data": {
      "text/plain": [
       "Index(['Sample_Type', 'Primary_Site', 'ATG7', 'ATG7_1', 'ATG7_2',\n",
       "       'ENSG00000198888', 'ENSG00000198763', 'ENSG00000198804',\n",
       "       'ENSG00000198712', 'ENSG00000228253',\n",
       "       ...\n",
       "       'ENSG00000160678', 'ENSG00000160679', 'ENSG00000143553',\n",
       "       'ENSG00000214193', 'ENSG00000196182', 'ENSG00000181817',\n",
       "       'ENSG00000116885', 'ENSG00000116898', 'ENSG00000119535',\n",
       "       'ENSG00000142694'],\n",
       "      dtype='object', length=19541)"
      ]
     },
     "execution_count": 28,
     "metadata": {},
     "output_type": "execute_result"
    }
   ],
   "source": [
    "tissue[0].columns"
   ]
  },
  {
   "cell_type": "code",
   "execution_count": null,
   "metadata": {
    "executionInfo": {
     "elapsed": 25,
     "status": "aborted",
     "timestamp": 1636492137476,
     "user": {
      "displayName": "a b",
      "photoUrl": "https://lh3.googleusercontent.com/a/default-user=s64",
      "userId": "14720607983357227806"
     },
     "user_tz": 0
    },
    "id": "OGqyJk-14Zyq"
   },
   "outputs": [],
   "source": [
    "#Graphic representation, two graphs in one\n",
    "\n",
    "all_tissue_used = [[df_normal_expr,'Normal Tissue', 'blue'], [df_primary_expr,'Primary Tumors', 'chocolate']]]\n",
    "\n",
    "HK2 = 'ENSG00000159399'\n",
    "YAP1 = 'ENSG00000137693'\n",
    "AJUBA = 'ENSG00000129474'\n",
    "YBX1 = 'ENSG00000065978'\n",
    "TGFB1 = 'ENSG00000105329'\n",
    "MAPK1 = 'ENSG00000100030'\n",
    "MTDH = 'ENSG00000147649'\n",
    "KPNA1 = 'ENSG00000114030'\n",
    "TNPO1 = 'ENSG00000083312'\n",
    "\n",
    "\n",
    " \n",
    "genes = [[ATG7,'ATG7'], [ATG7_1,'ATG7_1'], [MAPK1,'MAPK1'], [MTDH,'MTDH'], [KPNA1,'KPNA1'], \n",
    "         [TNPO1,'TNPO1'], [HK2,'HK2'], [YAP1,'YAP1'], [AJUBA,'AJUBA'], [YBX1,'YBX1'], [TGFB1,'TGFB1']]\n",
    "\n",
    "for gene in genes:\n",
    "  for df in data:\n",
    "    \n",
    "      fig, ax = plt.subplots(1,2, figsize=(18,8))\n",
    "      name = gene[1]+ \" correlation with the two isoforms\"\n",
    "      name2 = gene[1]+ \" expression (log2 tpm)\"\n",
    "\n",
    "      fig.suptitle(name, fontsize=\"x-large\")\n",
    "\n",
    "      x = df[0][gene[0]].to_list()\n",
    "      y1 = df[0]['ATG7_1'].to_list()\n",
    "      y2 = df[0]['ATG7_2'].to_list()\n",
    "\n",
    "\n",
    "      fig = seaborn.regplot(x=x,y=y1, ax=ax[0], x_bins=800, x_ci = 0, marker=\"+\", label = df[1], color = df[2])\n",
    "      fig.set_title(\"ATG7(1)\")\n",
    "      fig.set_xlabel(name2)\n",
    "      fig.set_ylabel('ATG7(1) expression (log2 tpm)')\n",
    "\n",
    "      fig = seaborn.regplot(x=x,y=y2, ax=ax[1], x_bins=800, x_ci = 0, marker=\"+\", label = df[1], color = df[2])\n",
    "      fig.set_title(\"ATG7(2)\")\n",
    "      fig.set_xlabel(name2)\n",
    "      fig.set_ylabel('ATG7(2) expression (log2 tpm)')\n",
    "      plt.legend()\n",
    "      plt.show()\n",
    "      plt.clf()\n",
    "\n",
    "      print(df[1])\n",
    "      r_value, p_value = scipy.stats.spearmanr(x, y1)\n",
    "      print('  correlation between ATG7_1 and', gene[1],  'is:', 'r_value = {:.2f} for a p_value of {:.2e}'.format(r_value, p_value))\n",
    "      r_value, p_value = scipy.stats.spearmanr(x, y2)\n",
    "      print('  correlation between ATG7_2 and', gene[1],  'is:', 'r_value = {:.2f} for a p_value of {:.2e}'.format(r_value, p_value))\n",
    "      print()"
   ]
  }
 ],
 "metadata": {
  "colab": {
   "collapsed_sections": [],
   "name": "Copie de all_organs.v003.ipynb",
   "provenance": [
    {
     "file_id": "1zsP2bHPuaOCf7KU80quDT_n6UpYrtj8e",
     "timestamp": 1636493034097
    }
   ]
  },
  "kernelspec": {
   "display_name": "Python 3",
   "language": "python",
   "name": "python3"
  },
  "language_info": {
   "codemirror_mode": {
    "name": "ipython",
    "version": 3
   },
   "file_extension": ".py",
   "mimetype": "text/x-python",
   "name": "python",
   "nbconvert_exporter": "python",
   "pygments_lexer": "ipython3",
   "version": "3.7.11"
  }
 },
 "nbformat": 4,
 "nbformat_minor": 1
}
